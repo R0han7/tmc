{
 "cells": [
  {
   "cell_type": "code",
   "execution_count": null,
   "id": "5aa8c658",
   "metadata": {},
   "outputs": [],
   "source": [
    "import pandas as pd\n",
    "\n",
    "# Load the CSV file\n",
    "df = pd.read_csv(\"labeled_sensor_data.csv\")\n",
    "\n",
    "# Check for missing values in x, y, and z columns\n",
    "missing_values = df[['x', 'y', 'z']].isnull().sum()\n",
    "\n",
    "print(\"Missing values in each column:\")\n",
    "print(missing_values)\n"
   ]
  },
  {
   "cell_type": "code",
   "execution_count": null,
   "id": "81b607cc",
   "metadata": {},
   "outputs": [],
   "source": [
    "duplicate_rows = df[df.duplicated()]\n",
    "\n",
    "print(f\"Number of duplicate rows: {duplicate_rows.shape[0]}\")\n",
    "print(\"Duplicate rows (if any):\")\n",
    "print(duplicate_rows)\n"
   ]
  },
  {
   "cell_type": "code",
   "execution_count": null,
   "id": "33bdcfd8",
   "metadata": {},
   "outputs": [],
   "source": [
    "from sklearn.preprocessing import StandardScaler\n",
    "\n",
    "# Initialize the scaler\n",
    "scaler = StandardScaler()\n",
    "\n",
    "# Standardize x, y, z columns\n",
    "df[['x', 'y', 'z']] = scaler.fit_transform(df[['x', 'y', 'z']])"
   ]
  },
  {
   "cell_type": "code",
   "execution_count": null,
   "id": "3bf35ce7",
   "metadata": {},
   "outputs": [],
   "source": [
    "# Sort by subject, activity_type, and timestamp\n",
    "df['timestamp'] = pd.to_datetime(df['timestamp'], format='mixed', dayfirst=False, errors='coerce').dt.tz_convert('UTC')\n",
    "df = df.sort_values(['subject', 'activity_type', 'timestamp'])\n",
    "\n",
    "# Compute time differences within each subject and activity_type group\n",
    "df['time_diff'] = df.groupby(['subject', 'activity_type'])['timestamp'].diff().dt.total_seconds()\n",
    "\n",
    "# Assign a new sequence_id when time_diff > 1 second (indicating a gap)\n",
    "df['sequence_id'] = (df['time_diff'] > 1.0).cumsum()\n",
    "\n",
    "# Drop time_diff as it’s no longer needed\n",
    "df = df.drop(columns=['time_diff'])"
   ]
  },
  {
   "cell_type": "code",
   "execution_count": null,
   "id": "128a82b2",
   "metadata": {},
   "outputs": [],
   "source": [
    "import pandas as pd\n",
    "import numpy as np\n",
    "from scipy.stats import skew, kurtosis\n",
    "from scipy.signal import find_peaks\n",
    "\n",
    "def generate_windows(group, window_size=pd.Timedelta(seconds=2), step_size=pd.Timedelta(seconds=1)):\n",
    "    group = group.sort_values('timestamp')\n",
    "    start_time = group['timestamp'].min()\n",
    "    end_time = group['timestamp'].max()\n",
    "    windows = []\n",
    "    labels = []\n",
    "    current_start = start_time\n",
    "    \n",
    "    while current_start + window_size <= end_time:\n",
    "        window_end = current_start + window_size\n",
    "        window_data = group[(group['timestamp'] >= current_start) & (group['timestamp'] < window_end)]\n",
    "        if not window_data.empty:\n",
    "            windows.append(window_data)\n",
    "            labels.append(group['activity_type'].iloc[0])  # All rows have the same activity_type\n",
    "        current_start += step_size\n",
    "    \n",
    "    return windows, labels\n",
    "\n",
    "# Process all sequences\n",
    "all_windows = []\n",
    "all_labels = []\n",
    "for (subject, activity_type, sequence_id), group in df.groupby(['subject', 'activity_type', 'sequence_id']):\n",
    "    windows, labels = generate_windows(group)\n",
    "    all_windows.extend(windows)\n",
    "    all_labels.extend(labels)"
   ]
  },
  {
   "cell_type": "code",
   "execution_count": null,
   "id": "41e8568d",
   "metadata": {},
   "outputs": [],
   "source": []
  },
  {
   "cell_type": "code",
   "execution_count": null,
   "id": "74177283",
   "metadata": {},
   "outputs": [],
   "source": [
    "def extract_features(window_data):\n",
    "    features = {}\n",
    "    \n",
    "    # Add subject\n",
    "    features['subject'] = window_data['subject'].iloc[0]\n",
    "    \n",
    "    # Time-Domain Features\n",
    "    for axis in ['x', 'y', 'z']:\n",
    "        data = window_data[axis]\n",
    "        features[f'{axis}_mean'] = data.mean()\n",
    "        features[f'{axis}_std'] = data.std()\n",
    "        features[f'{axis}_skew'] = skew(data)\n",
    "        features[f'{axis}_kurt'] = kurtosis(data)\n",
    "    \n",
    "    # Magnitude Features\n",
    "    mag = np.sqrt(window_data['x']**2 + window_data['y']**2 + window_data['z']**2)\n",
    "    features['mag_mean'] = mag.mean()\n",
    "    features['mag_std'] = mag.std()\n",
    "    \n",
    "    # Frequency-Domain Features\n",
    "    for axis in ['x', 'y', 'z']:\n",
    "        fft_vals = np.abs(np.fft.fft(window_data[axis]))[:len(window_data[axis])//2]\n",
    "        freqs = np.fft.fftfreq(len(window_data[axis]), d=0.135)[:len(window_data[axis])//2]\n",
    "        for low, high in [(0, 1), (1, 2), (2, 3), (3, 3.7)]:\n",
    "            mask = (freqs >= low) & (freqs < high)\n",
    "            features[f'{axis}_power_{low}-{high}'] = np.sum(fft_vals[mask]**2) if mask.any() else 0\n",
    "    \n",
    "    # Step Frequency\n",
    "    peaks, _ = find_peaks(mag, height=mag.mean() + mag.std(), distance=3)\n",
    "    window_duration = (window_data['timestamp'].max() - window_data['timestamp'].min()).total_seconds()\n",
    "    features['step_frequency'] = len(peaks) / window_duration if window_duration > 0 else 0\n",
    "    \n",
    "    return features\n",
    "\n",
    "\n",
    "# Extract features from all windows\n",
    "feature_list = [extract_features(window) for window in all_windows]\n",
    "features_df = pd.DataFrame(feature_list)\n",
    "features_df['label'] = all_labels"
   ]
  },
  {
   "cell_type": "code",
   "execution_count": null,
   "id": "878271e3",
   "metadata": {},
   "outputs": [],
   "source": [
    "from sklearn.preprocessing import LabelEncoder\n",
    "le = LabelEncoder()\n",
    "features_df['label'] = le.fit_transform(features_df['label'])"
   ]
  },
  {
   "cell_type": "code",
   "execution_count": null,
   "id": "84276609",
   "metadata": {},
   "outputs": [],
   "source": [
    "subjects = features_df['subject'].unique()\n",
    "train_subjects = subjects[:6]\n",
    "test_subjects = subjects[6:]\n",
    "\n",
    "train_df = features_df[features_df['subject'].isin(train_subjects)]\n",
    "test_df = features_df[features_df['subject'].isin(test_subjects)]\n",
    "\n",
    "\n",
    "X_train = train_df.drop(columns=['label', 'subject'])\n",
    "y_train = train_df['label']\n",
    "X_test = test_df.drop(columns=['label', 'subject'])\n",
    "y_test = test_df['label']"
   ]
  },
  {
   "cell_type": "code",
   "execution_count": null,
   "id": "2eaa8857",
   "metadata": {},
   "outputs": [],
   "source": [
    "train_df.subject.value_counts(),train_subjects,test_subjects"
   ]
  },
  {
   "cell_type": "code",
   "execution_count": null,
   "id": "e07b93b0",
   "metadata": {},
   "outputs": [],
   "source": [
    "train_df"
   ]
  },
  {
   "cell_type": "code",
   "execution_count": null,
   "id": "e96114f0",
   "metadata": {},
   "outputs": [],
   "source": [
    "from sklearn.ensemble import RandomForestClassifier\n",
    "from sklearn.metrics import accuracy_score\n",
    "\n",
    "model = RandomForestClassifier(n_estimators=100, random_state=42)\n",
    "model.fit(X_train, y_train)\n",
    "y_pred = model.predict(X_test)\n",
    "print(\"Accuracy:\", accuracy_score(y_test, y_pred))"
   ]
  },
  {
   "cell_type": "code",
   "execution_count": null,
   "id": "6424f23d",
   "metadata": {},
   "outputs": [],
   "source": [
    "import numpy as np\n",
    "import pandas as pd\n",
    "from scipy.stats import skew, kurtosis\n",
    "import torch\n",
    "import torch.nn as nn\n",
    "from torch.utils.data import Dataset, DataLoader\n",
    "from sklearn.preprocessing import LabelEncoder\n",
    "from sklearn.metrics import accuracy_score, f1_score\n",
    "from collections import Counter\n",
    "\n",
    "# Data Preprocessing Functions\n",
    "def generate_windows(group, window_size=2*50, step_size=1*50):  # 2s window, 1s step at 50Hz\n",
    "    windows = []\n",
    "    labels = []\n",
    "    data = group[['x', 'y', 'z']].values\n",
    "    activity = group['activity_type'].iloc[0]\n",
    "    for start in range(0, len(data) - window_size + 1, step_size):\n",
    "        window = data[start:start + window_size]\n",
    "        windows.append(window)\n",
    "        labels.append(activity)\n",
    "    return windows, labels\n",
    "\n",
    "def extract_features(window):\n",
    "    features = []\n",
    "    for axis in range(3):  # x, y, z\n",
    "        data = window[:, axis]\n",
    "        features.extend([data.mean(), data.std(), skew(data), kurtosis(data)])\n",
    "    mag = np.sqrt(window[:, 0]**2 + window[:, 1]**2 + window[:, 2]**2)\n",
    "    features.extend([mag.mean(), mag.std()])\n",
    "    return np.array(features)\n",
    "\n",
    "# Prepare sequences and compute max sequence length\n",
    "def prepare_sequences(df, max_seq_len=200):  # Adjustable max_seq_len\n",
    "    sequences = []\n",
    "    labels = []\n",
    "    subjects = []\n",
    "    max_len = 0\n",
    "    for (subject, activity_type, sequence_id), group in df.groupby(['subject', 'activity_type', 'sequence_id']):\n",
    "        windows, window_labels = generate_windows(group)\n",
    "        if windows:\n",
    "            sequence_features = [extract_features(window) for window in windows]\n",
    "            seq_len = len(sequence_features)\n",
    "            if seq_len > max_seq_len:\n",
    "                sequence_features = sequence_features[:max_seq_len]  # Truncate if too long\n",
    "                seq_len = max_seq_len\n",
    "            max_len = max(max_len, seq_len)\n",
    "            sequences.append(np.array(sequence_features))\n",
    "            labels.append(window_labels[0])\n",
    "            subjects.append(subject)\n",
    "    print(f\"Maximum sequence length: {max_len}\")\n",
    "    return sequences, labels, subjects, max_len\n",
    "\n",
    "# Custom Dataset\n",
    "class ActivityDataset(Dataset):\n",
    "    def __init__(self, sequences, labels, subjects, subject_encoder):\n",
    "        self.sequences = sequences\n",
    "        self.labels = labels\n",
    "        self.subjects = [subject_encoder.get(subj, len(subject_encoder)) for subj in subjects]\n",
    "    \n",
    "    def __len__(self):\n",
    "        return len(self.sequences)\n",
    "    \n",
    "    def __getitem__(self, idx):\n",
    "        return self.sequences[idx], self.labels[idx], self.subjects[idx]\n",
    "\n",
    "def collate_fn(batch):\n",
    "    sequences, labels, subjects = zip(*batch)\n",
    "    max_len = max(seq.shape[0] for seq in sequences)\n",
    "    padded_sequences = []\n",
    "    masks = []\n",
    "    for seq in sequences:\n",
    "        pad_width = ((0, max_len - seq.shape[0]), (0, 0))\n",
    "        padded_seq = np.pad(seq, pad_width, mode='constant', constant_values=0)\n",
    "        padded_sequences.append(padded_seq)\n",
    "        mask = np.ones(seq.shape[0], dtype=bool)\n",
    "        mask = np.pad(mask, (0, max_len - seq.shape[0]), mode='constant', constant_values=False)\n",
    "        masks.append(mask)\n",
    "    return (torch.tensor(padded_sequences, dtype=torch.float32),\n",
    "            torch.tensor(masks, dtype=torch.bool),\n",
    "            torch.tensor(labels, dtype=torch.long),\n",
    "            torch.tensor(subjects, dtype=torch.long))\n",
    "\n",
    "# Transformer Model\n",
    "class ActivityTransformer(nn.Module):\n",
    "    def __init__(self, num_features, num_classes, num_subjects, max_seq_len, d_model=128, num_heads=4, num_layers=2, dropout=0.1, embedding_dim=32):\n",
    "        super(ActivityTransformer, self).__init__()\n",
    "        self.d_model = d_model\n",
    "        self.subject_embedding = nn.Embedding(num_subjects + 1, embedding_dim)\n",
    "        self.input_proj = nn.Linear(num_features + embedding_dim, d_model)\n",
    "        self.cls_token = nn.Parameter(torch.zeros(1, 1, d_model))\n",
    "        self.pos_encoder = nn.Parameter(torch.zeros(1, max_seq_len + 1, d_model))  # +1 for CLS token\n",
    "        encoder_layer = nn.TransformerEncoderLayer(d_model, num_heads, dim_feedforward=512, dropout=dropout)\n",
    "        self.transformer_encoder = nn.TransformerEncoder(encoder_layer, num_layers)\n",
    "        self.classifier = nn.Linear(d_model, num_classes)\n",
    "    \n",
    "    def forward(self, x, mask, subject_ids):\n",
    "        batch_size, seq_len, num_features = x.shape\n",
    "        subj_emb = self.subject_embedding(subject_ids).unsqueeze(1).expand(-1, seq_len, -1)\n",
    "        x = torch.cat((x, subj_emb), dim=-1)\n",
    "        x = self.input_proj(x)\n",
    "        cls_token = self.cls_token.expand(batch_size, -1, -1)\n",
    "        x = torch.cat((cls_token, x), dim=1)\n",
    "        pos_encoding = self.pos_encoder[:, :seq_len + 1, :]  # Slice to match input length\n",
    "        x += pos_encoding\n",
    "        cls_mask = torch.ones(batch_size, 1, dtype=torch.bool, device=x.device)\n",
    "        full_mask = torch.cat((cls_mask, mask), dim=1)\n",
    "        transformer_mask = ~full_mask\n",
    "        x = x.permute(1, 0, 2)\n",
    "        x = self.transformer_encoder(x, src_key_padding_mask=transformer_mask)\n",
    "        x = x.permute(1, 0, 2)\n",
    "        cls_output = x[:, 0, :]\n",
    "        return self.classifier(cls_output)\n",
    "\n",
    "# Training and Evaluation Functions\n",
    "def train_epoch(model, loader, criterion, optimizer, device):\n",
    "    model.train()\n",
    "    total_loss = 0\n",
    "    for batch in loader:\n",
    "        sequences, masks, labels, subjects = [b.to(device) for b in batch]\n",
    "        optimizer.zero_grad()\n",
    "        logits = model(sequences, masks, subjects)\n",
    "        loss = criterion(logits, labels)\n",
    "        loss.backward()\n",
    "        optimizer.step()\n",
    "        total_loss += loss.item()\n",
    "    return total_loss / len(loader)\n",
    "\n",
    "def evaluate(model, loader, device):\n",
    "    model.eval()\n",
    "    preds, true = [], []\n",
    "    with torch.no_grad():\n",
    "        for batch in loader:\n",
    "            sequences, masks, labels, subjects = [b.to(device) for b in batch]\n",
    "            logits = model(sequences, masks, subjects)\n",
    "            preds.extend(torch.argmax(logits, dim=1).cpu().numpy())\n",
    "            true.extend(labels.cpu().numpy())\n",
    "    return accuracy_score(true, preds), f1_score(true, preds, average='weighted')\n",
    "\n",
    "# Main Execution\n",
    "\n",
    "    # Prepare data\n",
    "sequences, labels, subjects, max_seq_len = prepare_sequences(df)\n",
    "le = LabelEncoder()\n",
    "labels_encoded = le.fit_transform(labels)\n",
    "subject_encoder = {subj: idx for idx, subj in enumerate(sorted(set(subjects)))}\n",
    "\n",
    "# Split for a single fold (example: leave out 'U3')\n",
    "train_idx = [i for i, s in enumerate(subjects) if s != 'U3']\n",
    "val_idx = [i for i, s in enumerate(subjects) if s == 'U3']\n",
    "train_data = ([sequences[i] for i in train_idx], labels_encoded[train_idx], [subjects[i] for i in train_idx])\n",
    "val_data = ([sequences[i] for i in val_idx], labels_encoded[val_idx], [subjects[i] for i in val_idx])\n",
    "\n",
    "# Datasets and Loaders\n",
    "train_dataset = ActivityDataset(*train_data, subject_encoder)\n",
    "val_dataset = ActivityDataset(*val_data, subject_encoder)\n",
    "train_loader = DataLoader(train_dataset, batch_size=32, shuffle=True, collate_fn=collate_fn)\n",
    "val_loader = DataLoader(val_dataset, batch_size=32, shuffle=False, collate_fn=collate_fn)\n",
    "\n",
    "# Model Setup\n",
    "device = torch.device('cuda' if torch.cuda.is_available() else 'cpu')\n",
    "num_features = sequences[0].shape[1]\n",
    "model = ActivityTransformer(\n",
    "    num_features=num_features,\n",
    "    num_classes=len(le.classes_),\n",
    "    num_subjects=len(subject_encoder),\n",
    "    max_seq_len=max_seq_len\n",
    ").to(device)\n",
    "class_weights = torch.tensor([1.0 / Counter(labels_encoded)[i] for i in range(len(le.classes_))], dtype=torch.float).to(device)\n",
    "criterion = nn.CrossEntropyLoss(weight=class_weights)\n",
    "optimizer = torch.optim.Adam(model.parameters(), lr=0.001)\n",
    "scheduler = torch.optim.lr_scheduler.ReduceLROnPlateau(optimizer, 'min', patience=3)\n",
    "\n",
    "# Training Loop\n",
    "for epoch in range(100):\n",
    "    train_loss = train_epoch(model, train_loader, criterion, optimizer, device)\n",
    "    val_acc, val_f1 = evaluate(model, val_loader, device)\n",
    "    print(f\"Epoch {epoch+1}: Loss={train_loss:.4f}, Val Acc={val_acc:.4f}, Val F1={val_f1:.4f}\")\n",
    "    scheduler.step(train_loss)"
   ]
  },
  {
   "cell_type": "code",
   "execution_count": null,
   "id": "5c768003",
   "metadata": {},
   "outputs": [],
   "source": [
    "import numpy as np\n",
    "import pandas as pd\n",
    "from scipy.stats import skew, kurtosis\n",
    "from scipy.signal import find_peaks\n",
    "import torch\n",
    "import torch.nn as nn\n",
    "from torch.utils.data import Dataset, DataLoader\n",
    "from sklearn.preprocessing import LabelEncoder\n",
    "from sklearn.metrics import accuracy_score, f1_score\n",
    "from collections import Counter\n",
    "\n",
    "# Data Preprocessing Functions\n",
    "def generate_windows(group, window_size=pd.Timedelta(seconds=2), step_size=pd.Timedelta(seconds=1)):\n",
    "    group = group.sort_values('timestamp')\n",
    "    start_time = group['timestamp'].min()\n",
    "    end_time = group['timestamp'].max()\n",
    "    windows = []\n",
    "    labels = []\n",
    "    subjects = []\n",
    "    current_start = start_time\n",
    "    \n",
    "    while current_start + window_size <= end_time:\n",
    "        window_end = current_start + window_size\n",
    "        window_data = group[(group['timestamp'] >= current_start) & (group['timestamp'] < window_end)]\n",
    "        if not window_data.empty:\n",
    "            windows.append(window_data)\n",
    "            labels.append(group['activity_type'].iloc[0])\n",
    "            subjects.append(group['subject'].iloc[0])\n",
    "        current_start += step_size\n",
    "    \n",
    "    return windows, labels, subjects\n",
    "\n",
    "def extract_features(window_data):\n",
    "    features = {}\n",
    "    \n",
    "    # Time-Domain Features\n",
    "    for axis in ['x', 'y', 'z']:\n",
    "        data = window_data[axis]\n",
    "        features[f'{axis}_mean'] = data.mean()\n",
    "        features[f'{axis}_std'] = data.std()\n",
    "        features[f'{axis}_skew'] = skew(data)\n",
    "        features[f'{axis}_kurt'] = kurtosis(data)\n",
    "    \n",
    "    # Magnitude Features\n",
    "    mag = np.sqrt(window_data['x']**2 + window_data['y']**2 + window_data['z']**2)\n",
    "    features['mag_mean'] = mag.mean()\n",
    "    features['mag_std'] = mag.std()\n",
    "    \n",
    "    # Frequency-Domain Features\n",
    "    # Assuming 7.4 Hz sampling rate (0.135s interval)\n",
    "    for axis in ['x', 'y', 'z']:\n",
    "        fft_vals = np.abs(np.fft.fft(window_data[axis]))[:len(window_data[axis])//2]\n",
    "        freqs = np.fft.fftfreq(len(window_data[axis]), d=0.135)[:len(window_data[axis])//2]\n",
    "        for low, high in [(0, 1), (1, 2), (2, 3), (3, 3.7)]:\n",
    "            mask = (freqs >= low) & (freqs < high)\n",
    "            features[f'{axis}_power_{low}-{high}'] = np.sum(fft_vals[mask]**2) if mask.any() else 0\n",
    "    \n",
    "    # Step Frequency\n",
    "    peaks, _ = find_peaks(mag, height=mag.mean() + mag.std(), distance=3)\n",
    "    window_duration = (window_data['timestamp'].max() - window_data['timestamp'].min()).total_seconds()\n",
    "    features['step_frequency'] = len(peaks) / window_duration if window_duration > 0 else 0\n",
    "    \n",
    "    # Convert to numerical array (exclude subject)\n",
    "    feature_values = [v for k, v in features.items()]\n",
    "    return np.array(feature_values)\n",
    "\n",
    "# Prepare sequences\n",
    "def prepare_sequences(df, max_seq_len=200):\n",
    "    sequences = []\n",
    "    labels = []\n",
    "    subjects = []\n",
    "    max_len = 0\n",
    "    for (subject, activity_type, sequence_id), group in df.groupby(['subject', 'activity_type', 'sequence_id']):\n",
    "        windows, window_labels, window_subjects = generate_windows(group)\n",
    "        if windows:\n",
    "            sequence_features = [extract_features(window) for window in windows]\n",
    "            seq_len = len(sequence_features)\n",
    "            if seq_len > max_seq_len:\n",
    "                sequence_features = sequence_features[:max_seq_len]\n",
    "                seq_len = max_seq_len\n",
    "            max_len = max(max_len, seq_len)\n",
    "            sequences.append(np.array(sequence_features))\n",
    "            labels.append(window_labels[0])\n",
    "            subjects.append(window_subjects[0])\n",
    "    print(f\"Maximum sequence length: {max_len}\")\n",
    "    return sequences, labels, subjects, max_len\n",
    "\n",
    "# Custom Dataset\n",
    "class ActivityDataset(Dataset):\n",
    "    def __init__(self, sequences, labels, subjects, subject_encoder):\n",
    "        self.sequences = sequences\n",
    "        self.labels = labels\n",
    "        self.subjects = [subject_encoder.get(subj, len(subject_encoder)) for subj in subjects]\n",
    "    \n",
    "    def __len__(self):\n",
    "        return len(self.sequences)\n",
    "    \n",
    "    def __getitem__(self, idx):\n",
    "        return self.sequences[idx], self.labels[idx], self.subjects[idx]\n",
    "\n",
    "def collate_fn(batch):\n",
    "    sequences, labels, subjects = zip(*batch)\n",
    "    max_len = max(seq.shape[0] for seq in sequences)\n",
    "    padded_sequences = []\n",
    "    masks = []\n",
    "    for seq in sequences:\n",
    "        pad_width = ((0, max_len - seq.shape[0]), (0, 0))\n",
    "        padded_seq = np.pad(seq, pad_width, mode='constant', constant_values=0)\n",
    "        padded_sequences.append(padded_seq)\n",
    "        mask = np.ones(seq.shape[0], dtype=bool)\n",
    "        mask = np.pad(mask, (0, max_len - seq.shape[0]), mode='constant', constant_values=False)\n",
    "        masks.append(mask)\n",
    "    return (torch.tensor(padded_sequences, dtype=torch.float32),\n",
    "            torch.tensor(masks, dtype=torch.bool),\n",
    "            torch.tensor(labels, dtype=torch.long),\n",
    "            torch.tensor(subjects, dtype=torch.long))\n",
    "\n",
    "# Transformer Model\n",
    "class ActivityTransformer(nn.Module):\n",
    "    def __init__(self, num_features, num_classes, num_subjects, max_seq_len, d_model=128, num_heads=4, num_layers=2, dropout=0.1, embedding_dim=32):\n",
    "        super(ActivityTransformer, self).__init__()\n",
    "        self.d_model = d_model\n",
    "        self.subject_embedding = nn.Embedding(num_subjects + 1, embedding_dim)\n",
    "        self.input_proj = nn.Linear(num_features + embedding_dim, d_model)\n",
    "        self.cls_token = nn.Parameter(torch.zeros(1, 1, d_model))\n",
    "        self.pos_encoder = nn.Parameter(torch.zeros(1, max_seq_len + 1, d_model))\n",
    "        encoder_layer = nn.TransformerEncoderLayer(d_model, num_heads, dim_feedforward=512, dropout=dropout)\n",
    "        self.transformer_encoder = nn.TransformerEncoder(encoder_layer, num_layers)\n",
    "        self.classifier = nn.Linear(d_model, num_classes)\n",
    "    \n",
    "    def forward(self, x, mask, subject_ids):\n",
    "        batch_size, seq_len, num_features = x.shape\n",
    "        subj_emb = self.subject_embedding(subject_ids).unsqueeze(1).expand(-1, seq_len, -1)\n",
    "        x = torch.cat((x, subj_emb), dim=-1)\n",
    "        x = self.input_proj(x)\n",
    "        cls_token = self.cls_token.expand(batch_size, -1, -1)\n",
    "        x = torch.cat((cls_token, x), dim=1)\n",
    "        pos_encoding = self.pos_encoder[:, :seq_len + 1, :]\n",
    "        x += pos_encoding\n",
    "        cls_mask = torch.ones(batch_size, 1, dtype=torch.bool, device=x.device)\n",
    "        full_mask = torch.cat((cls_mask, mask), dim=1)\n",
    "        transformer_mask = ~full_mask\n",
    "        x = x.permute(1, 0, 2)\n",
    "        x = self.transformer_encoder(x, src_key_padding_mask=transformer_mask)\n",
    "        x = x.permute(1, 0, 2)\n",
    "        cls_output = x[:, 0, :]\n",
    "        return self.classifier(cls_output)\n",
    "\n",
    "# Training and Evaluation Functions\n",
    "def train_epoch(model, loader, criterion, optimizer, device):\n",
    "    model.train()\n",
    "    total_loss = 0\n",
    "    for batch in loader:\n",
    "        sequences, masks, labels, subjects = [b.to(device) for b in batch]\n",
    "        optimizer.zero_grad()\n",
    "        logits = model(sequences, masks, subjects)\n",
    "        loss = criterion(logits, labels)\n",
    "        loss.backward()\n",
    "        optimizer.step()\n",
    "        total_loss += loss.item()\n",
    "    return total_loss / len(loader)\n",
    "\n",
    "def evaluate(model, loader, device):\n",
    "    model.eval()\n",
    "    preds, true = [], []\n",
    "    with torch.no_grad():\n",
    "        for batch in loader:\n",
    "            sequences, masks, labels, subjects = [b.to(device) for b in batch]\n",
    "            logits = model(sequences, masks, subjects)\n",
    "            preds.extend(torch.argmax(logits, dim=1).cpu().numpy())\n",
    "            true.extend(labels.cpu().numpy())\n",
    "    return accuracy_score(true, preds), f1_score(true, preds, average='weighted')\n",
    "\n",
    "\n",
    "\n",
    "    # Prepare data\n",
    "sequences, labels, subjects, max_seq_len = prepare_sequences(df)\n",
    "le = LabelEncoder()\n",
    "labels_encoded = le.fit_transform(labels)\n",
    "subject_encoder = {subj: idx for idx, subj in enumerate(sorted(set(subjects)))}\n",
    "\n",
    "# Split for a single fold\n",
    "train_idx = [i for i, s in enumerate(subjects) if s not in 'U3']\n",
    "val_idx = [i for i, s in enumerate(subjects) if s == 'U3']\n",
    "train_data = ([sequences[i] for i in train_idx], labels_encoded[train_idx], [subjects[i] for i in train_idx])\n",
    "val_data = ([sequences[i] for i in val_idx], labels_encoded[val_idx], [subjects[i] for i in val_idx])\n",
    "\n",
    "# Datasets and Loaders\n",
    "train_dataset = ActivityDataset(*train_data, subject_encoder)\n",
    "val_dataset = ActivityDataset(*val_data, subject_encoder)\n",
    "train_loader = DataLoader(train_dataset, batch_size=32, shuffle=True, collate_fn=collate_fn)\n",
    "val_loader = DataLoader(val_dataset, batch_size=32, shuffle=False, collate_fn=collate_fn)\n",
    "\n",
    "# Model Setup\n",
    "device = torch.device('cuda' if torch.cuda.is_available() else 'cpu')\n",
    "num_features = sequences[0].shape[1]\n",
    "model = ActivityTransformer(\n",
    "    num_features=num_features,\n",
    "    num_classes=len(le.classes_),\n",
    "    num_subjects=len(subject_encoder),\n",
    "    max_seq_len=max_seq_len\n",
    ").to(device)\n",
    "class_weights = torch.tensor([1.0 / Counter(labels_encoded)[i] for i in range(len(le.classes_))], dtype=torch.float).to(device)\n",
    "criterion = nn.CrossEntropyLoss(weight=class_weights)\n",
    "optimizer = torch.optim.Adam(model.parameters(), lr=0.001)\n",
    "scheduler = torch.optim.lr_scheduler.ReduceLROnPlateau(optimizer, 'min', patience=3)\n",
    "\n",
    "# Training Loop\n",
    "for epoch in range(30):\n",
    "    train_loss = train_epoch(model, train_loader, criterion, optimizer, device)\n",
    "    val_acc, val_f1 = evaluate(model, val_loader, device)\n",
    "    print(f\"Epoch {epoch+1}: Loss={train_loss:.4f}, Val Acc={val_acc:.4f}, Val F1={val_f1:.4f}\")\n",
    "    scheduler.step(train_loss)"
   ]
  },
  {
   "cell_type": "code",
   "execution_count": 31,
   "id": "eb6f7a69",
   "metadata": {},
   "outputs": [
    {
     "name": "stdout",
     "output_type": "stream",
     "text": [
      "Maximum sequence length: 50\n",
      "Per-class F1-scores: {'1 (FACING camera) Sit and stand': 0.0, '10 Slow walk (SHAKING hands/body, tiny step, head forward)': 0.0, '2 (FACING camera) both hands SHAKING (sitting position)': 0.0, '3 Stand up from chair - both hands with SHAKING': 0.0, '4 (Sideway) Sit & stand': 0.0, '5 (Sideway) both hands SHAKING (sitting)': 0.0, '6 (Sideway) STAND up with - both hands SHAKING': 0.3333333333333333, '7 Cool down - sitting/relax': 0.0}\n"
     ]
    },
    {
     "name": "stderr",
     "output_type": "stream",
     "text": [
      "c:\\Users\\rohan\\AppData\\Local\\Programs\\Python\\Python39\\lib\\site-packages\\torch\\nn\\modules\\transformer.py:382: UserWarning: enable_nested_tensor is True, but self.use_nested_tensor is False because encoder_layer.self_attn.batch_first was not True(use batch_first for better inference performance)\n",
      "  warnings.warn(\n",
      "C:\\Users\\rohan\\AppData\\Local\\Temp\\ipykernel_49192\\2909796749.py:141: DeprecationWarning: In future, it will be an error for 'np.bool_' scalars to be interpreted as an index\n",
      "  torch.tensor(masks, dtype=torch.bool),\n"
     ]
    },
    {
     "name": "stdout",
     "output_type": "stream",
     "text": [
      "Epoch 1: Loss=2.5765, Val Acc=0.1000, Val F1=0.0333\n",
      "Per-class F1-scores: {'1 (FACING camera) Sit and stand': 1.0, '10 Slow walk (SHAKING hands/body, tiny step, head forward)': 0.0, '2 (FACING camera) both hands SHAKING (sitting position)': 0.0, '3 Stand up from chair - both hands with SHAKING': 0.0, '4 (Sideway) Sit & stand': 0.0, '5 (Sideway) both hands SHAKING (sitting)': 0.0, '6 (Sideway) STAND up with - both hands SHAKING': 0.6666666666666666, '7 Cool down - sitting/relax': 0.0}\n"
     ]
    },
    {
     "name": "stderr",
     "output_type": "stream",
     "text": [
      "C:\\Users\\rohan\\AppData\\Local\\Temp\\ipykernel_49192\\2909796749.py:141: DeprecationWarning: In future, it will be an error for 'np.bool_' scalars to be interpreted as an index\n",
      "  torch.tensor(masks, dtype=torch.bool),\n"
     ]
    },
    {
     "name": "stdout",
     "output_type": "stream",
     "text": [
      "Epoch 2: Loss=2.3322, Val Acc=0.2000, Val F1=0.1667\n",
      "Per-class F1-scores: {'1 (FACING camera) Sit and stand': 0.0, '10 Slow walk (SHAKING hands/body, tiny step, head forward)': 1.0, '2 (FACING camera) both hands SHAKING (sitting position)': 0.0, '3 Stand up from chair - both hands with SHAKING': 0.0, '4 (Sideway) Sit & stand': 0.0, '5 (Sideway) both hands SHAKING (sitting)': 0.0, '6 (Sideway) STAND up with - both hands SHAKING': 0.0, '7 Cool down - sitting/relax': 0.0, '8 Walk (LEFT --> Right --> Left)': 0.0}\n"
     ]
    },
    {
     "name": "stderr",
     "output_type": "stream",
     "text": [
      "C:\\Users\\rohan\\AppData\\Local\\Temp\\ipykernel_49192\\2909796749.py:141: DeprecationWarning: In future, it will be an error for 'np.bool_' scalars to be interpreted as an index\n",
      "  torch.tensor(masks, dtype=torch.bool),\n"
     ]
    },
    {
     "name": "stdout",
     "output_type": "stream",
     "text": [
      "Epoch 3: Loss=2.2529, Val Acc=0.1000, Val F1=0.1000\n",
      "Per-class F1-scores: {'1 (FACING camera) Sit and stand': 0.0, '10 Slow walk (SHAKING hands/body, tiny step, head forward)': 0.0, '2 (FACING camera) both hands SHAKING (sitting position)': 0.0, '3 Stand up from chair - both hands with SHAKING': 0.0, '4 (Sideway) Sit & stand': 0.6666666666666666, '5 (Sideway) both hands SHAKING (sitting)': 0.0, '6 (Sideway) STAND up with - both hands SHAKING': 0.0, '7 Cool down - sitting/relax': 0.0, '8 Walk (LEFT --> Right --> Left)': 0.0, '9 Walk & STOP/frozen, full body shaking, rotate then return back': 0.0}\n"
     ]
    },
    {
     "name": "stderr",
     "output_type": "stream",
     "text": [
      "C:\\Users\\rohan\\AppData\\Local\\Temp\\ipykernel_49192\\2909796749.py:141: DeprecationWarning: In future, it will be an error for 'np.bool_' scalars to be interpreted as an index\n",
      "  torch.tensor(masks, dtype=torch.bool),\n"
     ]
    },
    {
     "name": "stdout",
     "output_type": "stream",
     "text": [
      "Epoch 4: Loss=2.1739, Val Acc=0.1000, Val F1=0.0667\n",
      "Per-class F1-scores: {'1 (FACING camera) Sit and stand': 0.0, '10 Slow walk (SHAKING hands/body, tiny step, head forward)': 0.0, '2 (FACING camera) both hands SHAKING (sitting position)': 0.0, '3 Stand up from chair - both hands with SHAKING': 0.6666666666666666, '4 (Sideway) Sit & stand': 0.0, '5 (Sideway) both hands SHAKING (sitting)': 0.0, '6 (Sideway) STAND up with - both hands SHAKING': 0.0, '7 Cool down - sitting/relax': 0.0, '8 Walk (LEFT --> Right --> Left)': 0.0}\n"
     ]
    },
    {
     "name": "stderr",
     "output_type": "stream",
     "text": [
      "C:\\Users\\rohan\\AppData\\Local\\Temp\\ipykernel_49192\\2909796749.py:141: DeprecationWarning: In future, it will be an error for 'np.bool_' scalars to be interpreted as an index\n",
      "  torch.tensor(masks, dtype=torch.bool),\n"
     ]
    },
    {
     "name": "stdout",
     "output_type": "stream",
     "text": [
      "Epoch 5: Loss=2.1750, Val Acc=0.1000, Val F1=0.0667\n",
      "Per-class F1-scores: {'1 (FACING camera) Sit and stand': 0.0, '10 Slow walk (SHAKING hands/body, tiny step, head forward)': 0.0, '2 (FACING camera) both hands SHAKING (sitting position)': 0.0, '3 Stand up from chair - both hands with SHAKING': 0.5, '4 (Sideway) Sit & stand': 0.0, '5 (Sideway) both hands SHAKING (sitting)': 0.0, '6 (Sideway) STAND up with - both hands SHAKING': 0.0, '7 Cool down - sitting/relax': 0.0, '8 Walk (LEFT --> Right --> Left)': 0.0}\n"
     ]
    },
    {
     "name": "stderr",
     "output_type": "stream",
     "text": [
      "C:\\Users\\rohan\\AppData\\Local\\Temp\\ipykernel_49192\\2909796749.py:141: DeprecationWarning: In future, it will be an error for 'np.bool_' scalars to be interpreted as an index\n",
      "  torch.tensor(masks, dtype=torch.bool),\n"
     ]
    },
    {
     "name": "stdout",
     "output_type": "stream",
     "text": [
      "Epoch 6: Loss=2.0937, Val Acc=0.1000, Val F1=0.0500\n",
      "Per-class F1-scores: {'1 (FACING camera) Sit and stand': 0.0, '10 Slow walk (SHAKING hands/body, tiny step, head forward)': 0.0, '2 (FACING camera) both hands SHAKING (sitting position)': 0.0, '3 Stand up from chair - both hands with SHAKING': 0.0, '4 (Sideway) Sit & stand': 0.5, '5 (Sideway) both hands SHAKING (sitting)': 0.0, '6 (Sideway) STAND up with - both hands SHAKING': 0.0, '7 Cool down - sitting/relax': 0.0, '8 Walk (LEFT --> Right --> Left)': 0.5, '9 Walk & STOP/frozen, full body shaking, rotate then return back': 0.0}\n"
     ]
    },
    {
     "name": "stderr",
     "output_type": "stream",
     "text": [
      "C:\\Users\\rohan\\AppData\\Local\\Temp\\ipykernel_49192\\2909796749.py:141: DeprecationWarning: In future, it will be an error for 'np.bool_' scalars to be interpreted as an index\n",
      "  torch.tensor(masks, dtype=torch.bool),\n"
     ]
    },
    {
     "name": "stdout",
     "output_type": "stream",
     "text": [
      "Epoch 7: Loss=2.1572, Val Acc=0.2000, Val F1=0.1000\n",
      "Per-class F1-scores: {'1 (FACING camera) Sit and stand': 0.0, '10 Slow walk (SHAKING hands/body, tiny step, head forward)': 0.0, '2 (FACING camera) both hands SHAKING (sitting position)': 0.0, '3 Stand up from chair - both hands with SHAKING': 0.0, '4 (Sideway) Sit & stand': 0.5, '5 (Sideway) both hands SHAKING (sitting)': 0.0, '6 (Sideway) STAND up with - both hands SHAKING': 0.4, '7 Cool down - sitting/relax': 0.0}\n"
     ]
    },
    {
     "name": "stderr",
     "output_type": "stream",
     "text": [
      "C:\\Users\\rohan\\AppData\\Local\\Temp\\ipykernel_49192\\2909796749.py:141: DeprecationWarning: In future, it will be an error for 'np.bool_' scalars to be interpreted as an index\n",
      "  torch.tensor(masks, dtype=torch.bool),\n"
     ]
    },
    {
     "name": "stdout",
     "output_type": "stream",
     "text": [
      "Epoch 8: Loss=2.1605, Val Acc=0.2000, Val F1=0.0900\n",
      "Per-class F1-scores: {'1 (FACING camera) Sit and stand': 0.0, '10 Slow walk (SHAKING hands/body, tiny step, head forward)': 0.0, '2 (FACING camera) both hands SHAKING (sitting position)': 0.0, '3 Stand up from chair - both hands with SHAKING': 0.0, '4 (Sideway) Sit & stand': 0.0, '5 (Sideway) both hands SHAKING (sitting)': 0.0, '6 (Sideway) STAND up with - both hands SHAKING': 0.5, '7 Cool down - sitting/relax': 0.0}\n"
     ]
    },
    {
     "name": "stderr",
     "output_type": "stream",
     "text": [
      "C:\\Users\\rohan\\AppData\\Local\\Temp\\ipykernel_49192\\2909796749.py:141: DeprecationWarning: In future, it will be an error for 'np.bool_' scalars to be interpreted as an index\n",
      "  torch.tensor(masks, dtype=torch.bool),\n"
     ]
    },
    {
     "name": "stdout",
     "output_type": "stream",
     "text": [
      "Epoch 9: Loss=2.0844, Val Acc=0.1000, Val F1=0.0500\n",
      "Per-class F1-scores: {'1 (FACING camera) Sit and stand': 0.0, '10 Slow walk (SHAKING hands/body, tiny step, head forward)': 0.0, '2 (FACING camera) both hands SHAKING (sitting position)': 0.0, '3 Stand up from chair - both hands with SHAKING': 1.0, '4 (Sideway) Sit & stand': 0.0, '5 (Sideway) both hands SHAKING (sitting)': 0.0, '6 (Sideway) STAND up with - both hands SHAKING': 0.5, '7 Cool down - sitting/relax': 0.0}\n"
     ]
    },
    {
     "name": "stderr",
     "output_type": "stream",
     "text": [
      "C:\\Users\\rohan\\AppData\\Local\\Temp\\ipykernel_49192\\2909796749.py:141: DeprecationWarning: In future, it will be an error for 'np.bool_' scalars to be interpreted as an index\n",
      "  torch.tensor(masks, dtype=torch.bool),\n"
     ]
    },
    {
     "name": "stdout",
     "output_type": "stream",
     "text": [
      "Epoch 10: Loss=2.0635, Val Acc=0.2000, Val F1=0.1500\n",
      "Per-class F1-scores: {'1 (FACING camera) Sit and stand': 0.0, '10 Slow walk (SHAKING hands/body, tiny step, head forward)': 0.5, '2 (FACING camera) both hands SHAKING (sitting position)': 0.0, '3 Stand up from chair - both hands with SHAKING': 0.0, '4 (Sideway) Sit & stand': 0.0, '5 (Sideway) both hands SHAKING (sitting)': 0.0, '6 (Sideway) STAND up with - both hands SHAKING': 0.5, '7 Cool down - sitting/relax': 0.0}\n"
     ]
    },
    {
     "name": "stderr",
     "output_type": "stream",
     "text": [
      "C:\\Users\\rohan\\AppData\\Local\\Temp\\ipykernel_49192\\2909796749.py:141: DeprecationWarning: In future, it will be an error for 'np.bool_' scalars to be interpreted as an index\n",
      "  torch.tensor(masks, dtype=torch.bool),\n"
     ]
    },
    {
     "name": "stdout",
     "output_type": "stream",
     "text": [
      "Epoch 11: Loss=1.8857, Val Acc=0.2000, Val F1=0.1000\n",
      "Per-class F1-scores: {'1 (FACING camera) Sit and stand': 0.0, '10 Slow walk (SHAKING hands/body, tiny step, head forward)': 0.0, '2 (FACING camera) both hands SHAKING (sitting position)': 0.0, '3 Stand up from chair - both hands with SHAKING': 0.0, '4 (Sideway) Sit & stand': 0.0, '5 (Sideway) both hands SHAKING (sitting)': 0.0, '6 (Sideway) STAND up with - both hands SHAKING': 0.0, '7 Cool down - sitting/relax': 0.4, '8 Walk (LEFT --> Right --> Left)': 0.0}\n"
     ]
    },
    {
     "name": "stderr",
     "output_type": "stream",
     "text": [
      "C:\\Users\\rohan\\AppData\\Local\\Temp\\ipykernel_49192\\2909796749.py:141: DeprecationWarning: In future, it will be an error for 'np.bool_' scalars to be interpreted as an index\n",
      "  torch.tensor(masks, dtype=torch.bool),\n"
     ]
    },
    {
     "name": "stdout",
     "output_type": "stream",
     "text": [
      "Epoch 12: Loss=2.0224, Val Acc=0.1000, Val F1=0.0400\n",
      "Per-class F1-scores: {'1 (FACING camera) Sit and stand': 0.0, '10 Slow walk (SHAKING hands/body, tiny step, head forward)': 0.0, '2 (FACING camera) both hands SHAKING (sitting position)': 0.0, '3 Stand up from chair - both hands with SHAKING': 0.0, '4 (Sideway) Sit & stand': 0.0, '5 (Sideway) both hands SHAKING (sitting)': 0.0, '6 (Sideway) STAND up with - both hands SHAKING': 0.0, '7 Cool down - sitting/relax': 0.2857142857142857, '8 Walk (LEFT --> Right --> Left)': 0.0}\n"
     ]
    },
    {
     "name": "stderr",
     "output_type": "stream",
     "text": [
      "C:\\Users\\rohan\\AppData\\Local\\Temp\\ipykernel_49192\\2909796749.py:141: DeprecationWarning: In future, it will be an error for 'np.bool_' scalars to be interpreted as an index\n",
      "  torch.tensor(masks, dtype=torch.bool),\n"
     ]
    },
    {
     "name": "stdout",
     "output_type": "stream",
     "text": [
      "Epoch 13: Loss=1.8847, Val Acc=0.1000, Val F1=0.0286\n",
      "Per-class F1-scores: {'1 (FACING camera) Sit and stand': 0.0, '10 Slow walk (SHAKING hands/body, tiny step, head forward)': 0.0, '2 (FACING camera) both hands SHAKING (sitting position)': 0.0, '3 Stand up from chair - both hands with SHAKING': 0.0, '4 (Sideway) Sit & stand': 0.0, '5 (Sideway) both hands SHAKING (sitting)': 0.0, '6 (Sideway) STAND up with - both hands SHAKING': 0.0, '7 Cool down - sitting/relax': 0.2857142857142857, '8 Walk (LEFT --> Right --> Left)': 0.0}\n"
     ]
    },
    {
     "name": "stderr",
     "output_type": "stream",
     "text": [
      "C:\\Users\\rohan\\AppData\\Local\\Temp\\ipykernel_49192\\2909796749.py:141: DeprecationWarning: In future, it will be an error for 'np.bool_' scalars to be interpreted as an index\n",
      "  torch.tensor(masks, dtype=torch.bool),\n"
     ]
    },
    {
     "name": "stdout",
     "output_type": "stream",
     "text": [
      "Epoch 14: Loss=1.8856, Val Acc=0.1000, Val F1=0.0286\n",
      "Per-class F1-scores: {'1 (FACING camera) Sit and stand': 0.0, '10 Slow walk (SHAKING hands/body, tiny step, head forward)': 0.0, '2 (FACING camera) both hands SHAKING (sitting position)': 0.0, '3 Stand up from chair - both hands with SHAKING': 0.0, '4 (Sideway) Sit & stand': 0.0, '5 (Sideway) both hands SHAKING (sitting)': 0.0, '6 (Sideway) STAND up with - both hands SHAKING': 0.0, '7 Cool down - sitting/relax': 0.2857142857142857, '8 Walk (LEFT --> Right --> Left)': 0.0}\n"
     ]
    },
    {
     "name": "stderr",
     "output_type": "stream",
     "text": [
      "C:\\Users\\rohan\\AppData\\Local\\Temp\\ipykernel_49192\\2909796749.py:141: DeprecationWarning: In future, it will be an error for 'np.bool_' scalars to be interpreted as an index\n",
      "  torch.tensor(masks, dtype=torch.bool),\n"
     ]
    },
    {
     "name": "stdout",
     "output_type": "stream",
     "text": [
      "Epoch 15: Loss=1.7855, Val Acc=0.1000, Val F1=0.0286\n",
      "Per-class F1-scores: {'1 (FACING camera) Sit and stand': 0.0, '10 Slow walk (SHAKING hands/body, tiny step, head forward)': 0.0, '2 (FACING camera) both hands SHAKING (sitting position)': 0.0, '3 Stand up from chair - both hands with SHAKING': 0.0, '4 (Sideway) Sit & stand': 0.0, '5 (Sideway) both hands SHAKING (sitting)': 0.0, '6 (Sideway) STAND up with - both hands SHAKING': 0.0, '7 Cool down - sitting/relax': 0.2857142857142857, '8 Walk (LEFT --> Right --> Left)': 0.0}\n"
     ]
    },
    {
     "name": "stderr",
     "output_type": "stream",
     "text": [
      "C:\\Users\\rohan\\AppData\\Local\\Temp\\ipykernel_49192\\2909796749.py:141: DeprecationWarning: In future, it will be an error for 'np.bool_' scalars to be interpreted as an index\n",
      "  torch.tensor(masks, dtype=torch.bool),\n"
     ]
    },
    {
     "name": "stdout",
     "output_type": "stream",
     "text": [
      "Epoch 16: Loss=1.8226, Val Acc=0.1000, Val F1=0.0286\n",
      "Per-class F1-scores: {'1 (FACING camera) Sit and stand': 0.0, '10 Slow walk (SHAKING hands/body, tiny step, head forward)': 0.0, '2 (FACING camera) both hands SHAKING (sitting position)': 0.0, '3 Stand up from chair - both hands with SHAKING': 1.0, '4 (Sideway) Sit & stand': 0.0, '5 (Sideway) both hands SHAKING (sitting)': 0.0, '6 (Sideway) STAND up with - both hands SHAKING': 0.0, '7 Cool down - sitting/relax': 0.0, '8 Walk (LEFT --> Right --> Left)': 0.3333333333333333, '9 Walk & STOP/frozen, full body shaking, rotate then return back': 0.0}\n"
     ]
    },
    {
     "name": "stderr",
     "output_type": "stream",
     "text": [
      "C:\\Users\\rohan\\AppData\\Local\\Temp\\ipykernel_49192\\2909796749.py:141: DeprecationWarning: In future, it will be an error for 'np.bool_' scalars to be interpreted as an index\n",
      "  torch.tensor(masks, dtype=torch.bool),\n"
     ]
    },
    {
     "name": "stdout",
     "output_type": "stream",
     "text": [
      "Epoch 17: Loss=1.8327, Val Acc=0.2000, Val F1=0.1333\n",
      "Per-class F1-scores: {'1 (FACING camera) Sit and stand': 0.0, '10 Slow walk (SHAKING hands/body, tiny step, head forward)': 0.0, '2 (FACING camera) both hands SHAKING (sitting position)': 0.0, '3 Stand up from chair - both hands with SHAKING': 0.6666666666666666, '4 (Sideway) Sit & stand': 0.0, '5 (Sideway) both hands SHAKING (sitting)': 0.0, '6 (Sideway) STAND up with - both hands SHAKING': 0.0, '7 Cool down - sitting/relax': 0.0, '8 Walk (LEFT --> Right --> Left)': 0.4, '9 Walk & STOP/frozen, full body shaking, rotate then return back': 0.0}\n"
     ]
    },
    {
     "name": "stderr",
     "output_type": "stream",
     "text": [
      "C:\\Users\\rohan\\AppData\\Local\\Temp\\ipykernel_49192\\2909796749.py:141: DeprecationWarning: In future, it will be an error for 'np.bool_' scalars to be interpreted as an index\n",
      "  torch.tensor(masks, dtype=torch.bool),\n"
     ]
    },
    {
     "name": "stdout",
     "output_type": "stream",
     "text": [
      "Epoch 18: Loss=1.7540, Val Acc=0.2000, Val F1=0.1067\n",
      "Per-class F1-scores: {'1 (FACING camera) Sit and stand': 0.0, '10 Slow walk (SHAKING hands/body, tiny step, head forward)': 0.0, '2 (FACING camera) both hands SHAKING (sitting position)': 0.0, '3 Stand up from chair - both hands with SHAKING': 0.6666666666666666, '4 (Sideway) Sit & stand': 0.0, '5 (Sideway) both hands SHAKING (sitting)': 0.0, '6 (Sideway) STAND up with - both hands SHAKING': 0.0, '7 Cool down - sitting/relax': 0.0, '8 Walk (LEFT --> Right --> Left)': 0.4, '9 Walk & STOP/frozen, full body shaking, rotate then return back': 0.0}\n"
     ]
    },
    {
     "name": "stderr",
     "output_type": "stream",
     "text": [
      "C:\\Users\\rohan\\AppData\\Local\\Temp\\ipykernel_49192\\2909796749.py:141: DeprecationWarning: In future, it will be an error for 'np.bool_' scalars to be interpreted as an index\n",
      "  torch.tensor(masks, dtype=torch.bool),\n"
     ]
    },
    {
     "name": "stdout",
     "output_type": "stream",
     "text": [
      "Epoch 19: Loss=1.7773, Val Acc=0.2000, Val F1=0.1067\n",
      "Per-class F1-scores: {'1 (FACING camera) Sit and stand': 0.0, '10 Slow walk (SHAKING hands/body, tiny step, head forward)': 0.0, '2 (FACING camera) both hands SHAKING (sitting position)': 0.0, '3 Stand up from chair - both hands with SHAKING': 0.6666666666666666, '4 (Sideway) Sit & stand': 0.0, '5 (Sideway) both hands SHAKING (sitting)': 0.0, '6 (Sideway) STAND up with - both hands SHAKING': 0.0, '7 Cool down - sitting/relax': 0.3333333333333333, '8 Walk (LEFT --> Right --> Left)': 0.0}\n"
     ]
    },
    {
     "name": "stderr",
     "output_type": "stream",
     "text": [
      "C:\\Users\\rohan\\AppData\\Local\\Temp\\ipykernel_49192\\2909796749.py:141: DeprecationWarning: In future, it will be an error for 'np.bool_' scalars to be interpreted as an index\n",
      "  torch.tensor(masks, dtype=torch.bool),\n"
     ]
    },
    {
     "name": "stdout",
     "output_type": "stream",
     "text": [
      "Epoch 20: Loss=1.7231, Val Acc=0.2000, Val F1=0.1000\n",
      "Per-class F1-scores: {'1 (FACING camera) Sit and stand': 0.0, '10 Slow walk (SHAKING hands/body, tiny step, head forward)': 0.0, '2 (FACING camera) both hands SHAKING (sitting position)': 0.0, '3 Stand up from chair - both hands with SHAKING': 0.6666666666666666, '4 (Sideway) Sit & stand': 0.0, '5 (Sideway) both hands SHAKING (sitting)': 0.0, '6 (Sideway) STAND up with - both hands SHAKING': 0.0, '7 Cool down - sitting/relax': 0.0, '8 Walk (LEFT --> Right --> Left)': 0.3333333333333333, '9 Walk & STOP/frozen, full body shaking, rotate then return back': 0.0}\n"
     ]
    },
    {
     "name": "stderr",
     "output_type": "stream",
     "text": [
      "C:\\Users\\rohan\\AppData\\Local\\Temp\\ipykernel_49192\\2909796749.py:141: DeprecationWarning: In future, it will be an error for 'np.bool_' scalars to be interpreted as an index\n",
      "  torch.tensor(masks, dtype=torch.bool),\n"
     ]
    },
    {
     "name": "stdout",
     "output_type": "stream",
     "text": [
      "Epoch 21: Loss=1.6273, Val Acc=0.2000, Val F1=0.1000\n",
      "Per-class F1-scores: {'1 (FACING camera) Sit and stand': 0.0, '10 Slow walk (SHAKING hands/body, tiny step, head forward)': 0.0, '2 (FACING camera) both hands SHAKING (sitting position)': 0.0, '3 Stand up from chair - both hands with SHAKING': 0.6666666666666666, '4 (Sideway) Sit & stand': 0.0, '5 (Sideway) both hands SHAKING (sitting)': 0.0, '6 (Sideway) STAND up with - both hands SHAKING': 0.0, '7 Cool down - sitting/relax': 0.0, '8 Walk (LEFT --> Right --> Left)': 0.3333333333333333, '9 Walk & STOP/frozen, full body shaking, rotate then return back': 0.0}\n"
     ]
    },
    {
     "name": "stderr",
     "output_type": "stream",
     "text": [
      "C:\\Users\\rohan\\AppData\\Local\\Temp\\ipykernel_49192\\2909796749.py:141: DeprecationWarning: In future, it will be an error for 'np.bool_' scalars to be interpreted as an index\n",
      "  torch.tensor(masks, dtype=torch.bool),\n"
     ]
    },
    {
     "name": "stdout",
     "output_type": "stream",
     "text": [
      "Epoch 22: Loss=1.6695, Val Acc=0.2000, Val F1=0.1000\n",
      "Per-class F1-scores: {'1 (FACING camera) Sit and stand': 0.0, '10 Slow walk (SHAKING hands/body, tiny step, head forward)': 0.0, '2 (FACING camera) both hands SHAKING (sitting position)': 0.6666666666666666, '3 Stand up from chair - both hands with SHAKING': 0.0, '4 (Sideway) Sit & stand': 0.0, '5 (Sideway) both hands SHAKING (sitting)': 0.0, '6 (Sideway) STAND up with - both hands SHAKING': 0.0, '7 Cool down - sitting/relax': 0.3333333333333333, '8 Walk (LEFT --> Right --> Left)': 0.0}\n"
     ]
    },
    {
     "name": "stderr",
     "output_type": "stream",
     "text": [
      "C:\\Users\\rohan\\AppData\\Local\\Temp\\ipykernel_49192\\2909796749.py:141: DeprecationWarning: In future, it will be an error for 'np.bool_' scalars to be interpreted as an index\n",
      "  torch.tensor(masks, dtype=torch.bool),\n"
     ]
    },
    {
     "name": "stdout",
     "output_type": "stream",
     "text": [
      "Epoch 23: Loss=1.5847, Val Acc=0.2000, Val F1=0.1000\n",
      "Per-class F1-scores: {'1 (FACING camera) Sit and stand': 1.0, '10 Slow walk (SHAKING hands/body, tiny step, head forward)': 0.0, '2 (FACING camera) both hands SHAKING (sitting position)': 0.6666666666666666, '3 Stand up from chair - both hands with SHAKING': 0.0, '4 (Sideway) Sit & stand': 0.0, '5 (Sideway) both hands SHAKING (sitting)': 0.0, '6 (Sideway) STAND up with - both hands SHAKING': 0.0, '7 Cool down - sitting/relax': 0.5, '8 Walk (LEFT --> Right --> Left)': 0.0}\n"
     ]
    },
    {
     "name": "stderr",
     "output_type": "stream",
     "text": [
      "C:\\Users\\rohan\\AppData\\Local\\Temp\\ipykernel_49192\\2909796749.py:141: DeprecationWarning: In future, it will be an error for 'np.bool_' scalars to be interpreted as an index\n",
      "  torch.tensor(masks, dtype=torch.bool),\n"
     ]
    },
    {
     "name": "stdout",
     "output_type": "stream",
     "text": [
      "Epoch 24: Loss=1.6279, Val Acc=0.3000, Val F1=0.2167\n",
      "Per-class F1-scores: {'1 (FACING camera) Sit and stand': 1.0, '10 Slow walk (SHAKING hands/body, tiny step, head forward)': 0.0, '2 (FACING camera) both hands SHAKING (sitting position)': 0.0, '3 Stand up from chair - both hands with SHAKING': 0.6666666666666666, '4 (Sideway) Sit & stand': 0.0, '5 (Sideway) both hands SHAKING (sitting)': 0.0, '6 (Sideway) STAND up with - both hands SHAKING': 0.0, '7 Cool down - sitting/relax': 0.5, '8 Walk (LEFT --> Right --> Left)': 0.0}\n"
     ]
    },
    {
     "name": "stderr",
     "output_type": "stream",
     "text": [
      "C:\\Users\\rohan\\AppData\\Local\\Temp\\ipykernel_49192\\2909796749.py:141: DeprecationWarning: In future, it will be an error for 'np.bool_' scalars to be interpreted as an index\n",
      "  torch.tensor(masks, dtype=torch.bool),\n"
     ]
    },
    {
     "name": "stdout",
     "output_type": "stream",
     "text": [
      "Epoch 25: Loss=1.5729, Val Acc=0.3000, Val F1=0.2167\n",
      "Per-class F1-scores: {'1 (FACING camera) Sit and stand': 1.0, '10 Slow walk (SHAKING hands/body, tiny step, head forward)': 0.0, '2 (FACING camera) both hands SHAKING (sitting position)': 0.0, '3 Stand up from chair - both hands with SHAKING': 0.6666666666666666, '4 (Sideway) Sit & stand': 0.0, '5 (Sideway) both hands SHAKING (sitting)': 0.0, '6 (Sideway) STAND up with - both hands SHAKING': 0.0, '7 Cool down - sitting/relax': 0.5, '8 Walk (LEFT --> Right --> Left)': 0.0}\n"
     ]
    },
    {
     "name": "stderr",
     "output_type": "stream",
     "text": [
      "C:\\Users\\rohan\\AppData\\Local\\Temp\\ipykernel_49192\\2909796749.py:141: DeprecationWarning: In future, it will be an error for 'np.bool_' scalars to be interpreted as an index\n",
      "  torch.tensor(masks, dtype=torch.bool),\n"
     ]
    },
    {
     "name": "stdout",
     "output_type": "stream",
     "text": [
      "Epoch 26: Loss=1.5154, Val Acc=0.3000, Val F1=0.2167\n",
      "Per-class F1-scores: {'1 (FACING camera) Sit and stand': 1.0, '10 Slow walk (SHAKING hands/body, tiny step, head forward)': 0.0, '2 (FACING camera) both hands SHAKING (sitting position)': 0.0, '3 Stand up from chair - both hands with SHAKING': 0.6666666666666666, '4 (Sideway) Sit & stand': 0.0, '5 (Sideway) both hands SHAKING (sitting)': 0.0, '6 (Sideway) STAND up with - both hands SHAKING': 0.0, '7 Cool down - sitting/relax': 0.4, '8 Walk (LEFT --> Right --> Left)': 0.0}\n"
     ]
    },
    {
     "name": "stderr",
     "output_type": "stream",
     "text": [
      "C:\\Users\\rohan\\AppData\\Local\\Temp\\ipykernel_49192\\2909796749.py:141: DeprecationWarning: In future, it will be an error for 'np.bool_' scalars to be interpreted as an index\n",
      "  torch.tensor(masks, dtype=torch.bool),\n"
     ]
    },
    {
     "name": "stdout",
     "output_type": "stream",
     "text": [
      "Epoch 27: Loss=1.5476, Val Acc=0.3000, Val F1=0.2067\n",
      "Per-class F1-scores: {'1 (FACING camera) Sit and stand': 0.0, '10 Slow walk (SHAKING hands/body, tiny step, head forward)': 0.0, '2 (FACING camera) both hands SHAKING (sitting position)': 0.0, '3 Stand up from chair - both hands with SHAKING': 0.6666666666666666, '4 (Sideway) Sit & stand': 0.0, '5 (Sideway) both hands SHAKING (sitting)': 0.0, '6 (Sideway) STAND up with - both hands SHAKING': 0.0, '7 Cool down - sitting/relax': 0.3333333333333333, '8 Walk (LEFT --> Right --> Left)': 0.0}\n"
     ]
    },
    {
     "name": "stderr",
     "output_type": "stream",
     "text": [
      "C:\\Users\\rohan\\AppData\\Local\\Temp\\ipykernel_49192\\2909796749.py:141: DeprecationWarning: In future, it will be an error for 'np.bool_' scalars to be interpreted as an index\n",
      "  torch.tensor(masks, dtype=torch.bool),\n"
     ]
    },
    {
     "name": "stdout",
     "output_type": "stream",
     "text": [
      "Epoch 28: Loss=1.5539, Val Acc=0.2000, Val F1=0.1000\n",
      "Per-class F1-scores: {'1 (FACING camera) Sit and stand': 0.0, '10 Slow walk (SHAKING hands/body, tiny step, head forward)': 0.0, '2 (FACING camera) both hands SHAKING (sitting position)': 0.0, '3 Stand up from chair - both hands with SHAKING': 0.0, '4 (Sideway) Sit & stand': 0.0, '5 (Sideway) both hands SHAKING (sitting)': 0.0, '6 (Sideway) STAND up with - both hands SHAKING': 0.0, '7 Cool down - sitting/relax': 0.3333333333333333, '8 Walk (LEFT --> Right --> Left)': 0.0}\n"
     ]
    },
    {
     "name": "stderr",
     "output_type": "stream",
     "text": [
      "C:\\Users\\rohan\\AppData\\Local\\Temp\\ipykernel_49192\\2909796749.py:141: DeprecationWarning: In future, it will be an error for 'np.bool_' scalars to be interpreted as an index\n",
      "  torch.tensor(masks, dtype=torch.bool),\n"
     ]
    },
    {
     "name": "stdout",
     "output_type": "stream",
     "text": [
      "Epoch 29: Loss=1.4704, Val Acc=0.1000, Val F1=0.0333\n",
      "Per-class F1-scores: {'1 (FACING camera) Sit and stand': 0.0, '10 Slow walk (SHAKING hands/body, tiny step, head forward)': 0.0, '2 (FACING camera) both hands SHAKING (sitting position)': 0.0, '3 Stand up from chair - both hands with SHAKING': 0.6666666666666666, '4 (Sideway) Sit & stand': 0.0, '5 (Sideway) both hands SHAKING (sitting)': 0.0, '6 (Sideway) STAND up with - both hands SHAKING': 0.0, '7 Cool down - sitting/relax': 0.0, '8 Walk (LEFT --> Right --> Left)': 0.0}\n"
     ]
    },
    {
     "name": "stderr",
     "output_type": "stream",
     "text": [
      "C:\\Users\\rohan\\AppData\\Local\\Temp\\ipykernel_49192\\2909796749.py:141: DeprecationWarning: In future, it will be an error for 'np.bool_' scalars to be interpreted as an index\n",
      "  torch.tensor(masks, dtype=torch.bool),\n"
     ]
    },
    {
     "name": "stdout",
     "output_type": "stream",
     "text": [
      "Epoch 30: Loss=1.5225, Val Acc=0.1000, Val F1=0.0667\n",
      "Per-class F1-scores: {'1 (FACING camera) Sit and stand': 0.0, '10 Slow walk (SHAKING hands/body, tiny step, head forward)': 0.0, '2 (FACING camera) both hands SHAKING (sitting position)': 0.0, '3 Stand up from chair - both hands with SHAKING': 0.6666666666666666, '4 (Sideway) Sit & stand': 0.0, '5 (Sideway) both hands SHAKING (sitting)': 0.0, '6 (Sideway) STAND up with - both hands SHAKING': 0.0, '7 Cool down - sitting/relax': 0.0, '8 Walk (LEFT --> Right --> Left)': 0.0}\n"
     ]
    },
    {
     "name": "stderr",
     "output_type": "stream",
     "text": [
      "C:\\Users\\rohan\\AppData\\Local\\Temp\\ipykernel_49192\\2909796749.py:141: DeprecationWarning: In future, it will be an error for 'np.bool_' scalars to be interpreted as an index\n",
      "  torch.tensor(masks, dtype=torch.bool),\n"
     ]
    },
    {
     "name": "stdout",
     "output_type": "stream",
     "text": [
      "Epoch 31: Loss=1.4991, Val Acc=0.1000, Val F1=0.0667\n",
      "Per-class F1-scores: {'1 (FACING camera) Sit and stand': 0.6666666666666666, '10 Slow walk (SHAKING hands/body, tiny step, head forward)': 0.0, '2 (FACING camera) both hands SHAKING (sitting position)': 0.0, '3 Stand up from chair - both hands with SHAKING': 0.6666666666666666, '4 (Sideway) Sit & stand': 0.0, '5 (Sideway) both hands SHAKING (sitting)': 0.0, '6 (Sideway) STAND up with - both hands SHAKING': 0.0, '7 Cool down - sitting/relax': 0.0, '8 Walk (LEFT --> Right --> Left)': 0.0}\n"
     ]
    },
    {
     "name": "stderr",
     "output_type": "stream",
     "text": [
      "C:\\Users\\rohan\\AppData\\Local\\Temp\\ipykernel_49192\\2909796749.py:141: DeprecationWarning: In future, it will be an error for 'np.bool_' scalars to be interpreted as an index\n",
      "  torch.tensor(masks, dtype=torch.bool),\n"
     ]
    },
    {
     "name": "stdout",
     "output_type": "stream",
     "text": [
      "Epoch 32: Loss=1.4298, Val Acc=0.2000, Val F1=0.1333\n",
      "Per-class F1-scores: {'1 (FACING camera) Sit and stand': 0.6666666666666666, '10 Slow walk (SHAKING hands/body, tiny step, head forward)': 0.0, '2 (FACING camera) both hands SHAKING (sitting position)': 0.0, '3 Stand up from chair - both hands with SHAKING': 0.6666666666666666, '4 (Sideway) Sit & stand': 0.0, '5 (Sideway) both hands SHAKING (sitting)': 0.0, '6 (Sideway) STAND up with - both hands SHAKING': 0.0, '7 Cool down - sitting/relax': 0.0, '8 Walk (LEFT --> Right --> Left)': 0.0}\n"
     ]
    },
    {
     "name": "stderr",
     "output_type": "stream",
     "text": [
      "C:\\Users\\rohan\\AppData\\Local\\Temp\\ipykernel_49192\\2909796749.py:141: DeprecationWarning: In future, it will be an error for 'np.bool_' scalars to be interpreted as an index\n",
      "  torch.tensor(masks, dtype=torch.bool),\n"
     ]
    },
    {
     "name": "stdout",
     "output_type": "stream",
     "text": [
      "Epoch 33: Loss=1.3943, Val Acc=0.2000, Val F1=0.1333\n",
      "Per-class F1-scores: {'1 (FACING camera) Sit and stand': 0.6666666666666666, '10 Slow walk (SHAKING hands/body, tiny step, head forward)': 0.0, '2 (FACING camera) both hands SHAKING (sitting position)': 0.0, '3 Stand up from chair - both hands with SHAKING': 0.6666666666666666, '4 (Sideway) Sit & stand': 0.0, '5 (Sideway) both hands SHAKING (sitting)': 0.0, '6 (Sideway) STAND up with - both hands SHAKING': 0.0, '7 Cool down - sitting/relax': 0.5, '8 Walk (LEFT --> Right --> Left)': 0.0}\n"
     ]
    },
    {
     "name": "stderr",
     "output_type": "stream",
     "text": [
      "C:\\Users\\rohan\\AppData\\Local\\Temp\\ipykernel_49192\\2909796749.py:141: DeprecationWarning: In future, it will be an error for 'np.bool_' scalars to be interpreted as an index\n",
      "  torch.tensor(masks, dtype=torch.bool),\n"
     ]
    },
    {
     "name": "stdout",
     "output_type": "stream",
     "text": [
      "Epoch 34: Loss=1.2854, Val Acc=0.3000, Val F1=0.1833\n",
      "Per-class F1-scores: {'1 (FACING camera) Sit and stand': 0.6666666666666666, '10 Slow walk (SHAKING hands/body, tiny step, head forward)': 0.0, '2 (FACING camera) both hands SHAKING (sitting position)': 0.0, '3 Stand up from chair - both hands with SHAKING': 0.6666666666666666, '4 (Sideway) Sit & stand': 0.0, '5 (Sideway) both hands SHAKING (sitting)': 0.0, '6 (Sideway) STAND up with - both hands SHAKING': 0.0, '7 Cool down - sitting/relax': 0.6666666666666666, '8 Walk (LEFT --> Right --> Left)': 0.0}\n"
     ]
    },
    {
     "name": "stderr",
     "output_type": "stream",
     "text": [
      "C:\\Users\\rohan\\AppData\\Local\\Temp\\ipykernel_49192\\2909796749.py:141: DeprecationWarning: In future, it will be an error for 'np.bool_' scalars to be interpreted as an index\n",
      "  torch.tensor(masks, dtype=torch.bool),\n"
     ]
    },
    {
     "name": "stdout",
     "output_type": "stream",
     "text": [
      "Epoch 35: Loss=1.2717, Val Acc=0.3000, Val F1=0.2000\n",
      "Per-class F1-scores: {'1 (FACING camera) Sit and stand': 0.6666666666666666, '10 Slow walk (SHAKING hands/body, tiny step, head forward)': 0.0, '2 (FACING camera) both hands SHAKING (sitting position)': 0.0, '3 Stand up from chair - both hands with SHAKING': 0.0, '4 (Sideway) Sit & stand': 0.0, '5 (Sideway) both hands SHAKING (sitting)': 0.0, '6 (Sideway) STAND up with - both hands SHAKING': 0.0, '7 Cool down - sitting/relax': 0.6666666666666666, '8 Walk (LEFT --> Right --> Left)': 0.0}\n"
     ]
    },
    {
     "name": "stderr",
     "output_type": "stream",
     "text": [
      "C:\\Users\\rohan\\AppData\\Local\\Temp\\ipykernel_49192\\2909796749.py:141: DeprecationWarning: In future, it will be an error for 'np.bool_' scalars to be interpreted as an index\n",
      "  torch.tensor(masks, dtype=torch.bool),\n"
     ]
    },
    {
     "name": "stdout",
     "output_type": "stream",
     "text": [
      "Epoch 36: Loss=1.2130, Val Acc=0.2000, Val F1=0.1333\n",
      "Per-class F1-scores: {'1 (FACING camera) Sit and stand': 0.6666666666666666, '10 Slow walk (SHAKING hands/body, tiny step, head forward)': 0.0, '2 (FACING camera) both hands SHAKING (sitting position)': 0.6666666666666666, '3 Stand up from chair - both hands with SHAKING': 0.0, '4 (Sideway) Sit & stand': 0.0, '5 (Sideway) both hands SHAKING (sitting)': 0.0, '6 (Sideway) STAND up with - both hands SHAKING': 0.0, '7 Cool down - sitting/relax': 0.6666666666666666, '8 Walk (LEFT --> Right --> Left)': 0.0}\n"
     ]
    },
    {
     "name": "stderr",
     "output_type": "stream",
     "text": [
      "C:\\Users\\rohan\\AppData\\Local\\Temp\\ipykernel_49192\\2909796749.py:141: DeprecationWarning: In future, it will be an error for 'np.bool_' scalars to be interpreted as an index\n",
      "  torch.tensor(masks, dtype=torch.bool),\n"
     ]
    },
    {
     "name": "stdout",
     "output_type": "stream",
     "text": [
      "Epoch 37: Loss=1.2415, Val Acc=0.3000, Val F1=0.2000\n",
      "Per-class F1-scores: {'1 (FACING camera) Sit and stand': 0.6666666666666666, '10 Slow walk (SHAKING hands/body, tiny step, head forward)': 0.0, '2 (FACING camera) both hands SHAKING (sitting position)': 0.6666666666666666, '3 Stand up from chair - both hands with SHAKING': 0.0, '4 (Sideway) Sit & stand': 0.0, '5 (Sideway) both hands SHAKING (sitting)': 0.0, '6 (Sideway) STAND up with - both hands SHAKING': 0.0, '7 Cool down - sitting/relax': 0.0, '8 Walk (LEFT --> Right --> Left)': 0.0}\n"
     ]
    },
    {
     "name": "stderr",
     "output_type": "stream",
     "text": [
      "C:\\Users\\rohan\\AppData\\Local\\Temp\\ipykernel_49192\\2909796749.py:141: DeprecationWarning: In future, it will be an error for 'np.bool_' scalars to be interpreted as an index\n",
      "  torch.tensor(masks, dtype=torch.bool),\n"
     ]
    },
    {
     "name": "stdout",
     "output_type": "stream",
     "text": [
      "Epoch 38: Loss=1.2766, Val Acc=0.2000, Val F1=0.1333\n",
      "Per-class F1-scores: {'1 (FACING camera) Sit and stand': 0.6666666666666666, '10 Slow walk (SHAKING hands/body, tiny step, head forward)': 0.0, '2 (FACING camera) both hands SHAKING (sitting position)': 0.6666666666666666, '3 Stand up from chair - both hands with SHAKING': 0.0, '4 (Sideway) Sit & stand': 0.0, '5 (Sideway) both hands SHAKING (sitting)': 0.0, '6 (Sideway) STAND up with - both hands SHAKING': 0.0, '7 Cool down - sitting/relax': 0.6666666666666666, '8 Walk (LEFT --> Right --> Left)': 0.0}\n"
     ]
    },
    {
     "name": "stderr",
     "output_type": "stream",
     "text": [
      "C:\\Users\\rohan\\AppData\\Local\\Temp\\ipykernel_49192\\2909796749.py:141: DeprecationWarning: In future, it will be an error for 'np.bool_' scalars to be interpreted as an index\n",
      "  torch.tensor(masks, dtype=torch.bool),\n"
     ]
    },
    {
     "name": "stdout",
     "output_type": "stream",
     "text": [
      "Epoch 39: Loss=1.0903, Val Acc=0.3000, Val F1=0.2000\n",
      "Per-class F1-scores: {'1 (FACING camera) Sit and stand': 0.6666666666666666, '10 Slow walk (SHAKING hands/body, tiny step, head forward)': 0.6666666666666666, '2 (FACING camera) both hands SHAKING (sitting position)': 0.6666666666666666, '3 Stand up from chair - both hands with SHAKING': 0.0, '4 (Sideway) Sit & stand': 0.0, '5 (Sideway) both hands SHAKING (sitting)': 0.0, '6 (Sideway) STAND up with - both hands SHAKING': 0.6666666666666666, '7 Cool down - sitting/relax': 0.0}\n"
     ]
    },
    {
     "name": "stderr",
     "output_type": "stream",
     "text": [
      "C:\\Users\\rohan\\AppData\\Local\\Temp\\ipykernel_49192\\2909796749.py:141: DeprecationWarning: In future, it will be an error for 'np.bool_' scalars to be interpreted as an index\n",
      "  torch.tensor(masks, dtype=torch.bool),\n"
     ]
    },
    {
     "name": "stdout",
     "output_type": "stream",
     "text": [
      "Epoch 40: Loss=1.2483, Val Acc=0.4000, Val F1=0.3333\n",
      "Per-class F1-scores: {'1 (FACING camera) Sit and stand': 1.0, '10 Slow walk (SHAKING hands/body, tiny step, head forward)': 0.6666666666666666, '2 (FACING camera) both hands SHAKING (sitting position)': 0.6666666666666666, '3 Stand up from chair - both hands with SHAKING': 0.0, '4 (Sideway) Sit & stand': 0.0, '5 (Sideway) both hands SHAKING (sitting)': 0.0, '6 (Sideway) STAND up with - both hands SHAKING': 0.0, '7 Cool down - sitting/relax': 0.6666666666666666, '8 Walk (LEFT --> Right --> Left)': 0.0}\n"
     ]
    },
    {
     "name": "stderr",
     "output_type": "stream",
     "text": [
      "C:\\Users\\rohan\\AppData\\Local\\Temp\\ipykernel_49192\\2909796749.py:141: DeprecationWarning: In future, it will be an error for 'np.bool_' scalars to be interpreted as an index\n",
      "  torch.tensor(masks, dtype=torch.bool),\n"
     ]
    },
    {
     "name": "stdout",
     "output_type": "stream",
     "text": [
      "Epoch 41: Loss=1.1261, Val Acc=0.4000, Val F1=0.3667\n",
      "Per-class F1-scores: {'1 (FACING camera) Sit and stand': 1.0, '10 Slow walk (SHAKING hands/body, tiny step, head forward)': 0.6666666666666666, '2 (FACING camera) both hands SHAKING (sitting position)': 0.6666666666666666, '3 Stand up from chair - both hands with SHAKING': 0.0, '4 (Sideway) Sit & stand': 0.0, '5 (Sideway) both hands SHAKING (sitting)': 0.0, '6 (Sideway) STAND up with - both hands SHAKING': 0.0, '7 Cool down - sitting/relax': 0.6666666666666666, '8 Walk (LEFT --> Right --> Left)': 0.0}\n"
     ]
    },
    {
     "name": "stderr",
     "output_type": "stream",
     "text": [
      "C:\\Users\\rohan\\AppData\\Local\\Temp\\ipykernel_49192\\2909796749.py:141: DeprecationWarning: In future, it will be an error for 'np.bool_' scalars to be interpreted as an index\n",
      "  torch.tensor(masks, dtype=torch.bool),\n"
     ]
    },
    {
     "name": "stdout",
     "output_type": "stream",
     "text": [
      "Epoch 42: Loss=1.1715, Val Acc=0.4000, Val F1=0.3667\n",
      "Per-class F1-scores: {'1 (FACING camera) Sit and stand': 0.0, '10 Slow walk (SHAKING hands/body, tiny step, head forward)': 1.0, '2 (FACING camera) both hands SHAKING (sitting position)': 0.6666666666666666, '3 Stand up from chair - both hands with SHAKING': 0.0, '4 (Sideway) Sit & stand': 0.0, '5 (Sideway) both hands SHAKING (sitting)': 0.0, '6 (Sideway) STAND up with - both hands SHAKING': 0.5, '7 Cool down - sitting/relax': 0.0}\n"
     ]
    },
    {
     "name": "stderr",
     "output_type": "stream",
     "text": [
      "C:\\Users\\rohan\\AppData\\Local\\Temp\\ipykernel_49192\\2909796749.py:141: DeprecationWarning: In future, it will be an error for 'np.bool_' scalars to be interpreted as an index\n",
      "  torch.tensor(masks, dtype=torch.bool),\n"
     ]
    },
    {
     "name": "stdout",
     "output_type": "stream",
     "text": [
      "Epoch 43: Loss=1.1463, Val Acc=0.4000, Val F1=0.3167\n",
      "Per-class F1-scores: {'1 (FACING camera) Sit and stand': 0.0, '10 Slow walk (SHAKING hands/body, tiny step, head forward)': 1.0, '2 (FACING camera) both hands SHAKING (sitting position)': 0.0, '3 Stand up from chair - both hands with SHAKING': 0.0, '4 (Sideway) Sit & stand': 0.0, '5 (Sideway) both hands SHAKING (sitting)': 0.0, '6 (Sideway) STAND up with - both hands SHAKING': 0.5, '7 Cool down - sitting/relax': 0.0}\n"
     ]
    },
    {
     "name": "stderr",
     "output_type": "stream",
     "text": [
      "C:\\Users\\rohan\\AppData\\Local\\Temp\\ipykernel_49192\\2909796749.py:141: DeprecationWarning: In future, it will be an error for 'np.bool_' scalars to be interpreted as an index\n",
      "  torch.tensor(masks, dtype=torch.bool),\n"
     ]
    },
    {
     "name": "stdout",
     "output_type": "stream",
     "text": [
      "Epoch 44: Loss=1.1361, Val Acc=0.3000, Val F1=0.2500\n",
      "Per-class F1-scores: {'1 (FACING camera) Sit and stand': 0.0, '10 Slow walk (SHAKING hands/body, tiny step, head forward)': 1.0, '2 (FACING camera) both hands SHAKING (sitting position)': 0.0, '3 Stand up from chair - both hands with SHAKING': 0.0, '4 (Sideway) Sit & stand': 0.0, '5 (Sideway) both hands SHAKING (sitting)': 0.0, '6 (Sideway) STAND up with - both hands SHAKING': 0.5, '7 Cool down - sitting/relax': 0.0}\n"
     ]
    },
    {
     "name": "stderr",
     "output_type": "stream",
     "text": [
      "C:\\Users\\rohan\\AppData\\Local\\Temp\\ipykernel_49192\\2909796749.py:141: DeprecationWarning: In future, it will be an error for 'np.bool_' scalars to be interpreted as an index\n",
      "  torch.tensor(masks, dtype=torch.bool),\n"
     ]
    },
    {
     "name": "stdout",
     "output_type": "stream",
     "text": [
      "Epoch 45: Loss=1.1842, Val Acc=0.3000, Val F1=0.2500\n",
      "Per-class F1-scores: {'1 (FACING camera) Sit and stand': 0.0, '10 Slow walk (SHAKING hands/body, tiny step, head forward)': 1.0, '2 (FACING camera) both hands SHAKING (sitting position)': 0.0, '3 Stand up from chair - both hands with SHAKING': 0.0, '4 (Sideway) Sit & stand': 0.0, '5 (Sideway) both hands SHAKING (sitting)': 0.0, '6 (Sideway) STAND up with - both hands SHAKING': 0.5, '7 Cool down - sitting/relax': 0.0}\n"
     ]
    },
    {
     "name": "stderr",
     "output_type": "stream",
     "text": [
      "C:\\Users\\rohan\\AppData\\Local\\Temp\\ipykernel_49192\\2909796749.py:141: DeprecationWarning: In future, it will be an error for 'np.bool_' scalars to be interpreted as an index\n",
      "  torch.tensor(masks, dtype=torch.bool),\n"
     ]
    },
    {
     "name": "stdout",
     "output_type": "stream",
     "text": [
      "Epoch 46: Loss=1.0387, Val Acc=0.3000, Val F1=0.2500\n",
      "Per-class F1-scores: {'1 (FACING camera) Sit and stand': 0.0, '10 Slow walk (SHAKING hands/body, tiny step, head forward)': 1.0, '2 (FACING camera) both hands SHAKING (sitting position)': 0.0, '3 Stand up from chair - both hands with SHAKING': 0.0, '4 (Sideway) Sit & stand': 0.0, '5 (Sideway) both hands SHAKING (sitting)': 0.0, '6 (Sideway) STAND up with - both hands SHAKING': 0.5, '7 Cool down - sitting/relax': 0.0}\n"
     ]
    },
    {
     "name": "stderr",
     "output_type": "stream",
     "text": [
      "C:\\Users\\rohan\\AppData\\Local\\Temp\\ipykernel_49192\\2909796749.py:141: DeprecationWarning: In future, it will be an error for 'np.bool_' scalars to be interpreted as an index\n",
      "  torch.tensor(masks, dtype=torch.bool),\n"
     ]
    },
    {
     "name": "stdout",
     "output_type": "stream",
     "text": [
      "Epoch 47: Loss=1.1992, Val Acc=0.3000, Val F1=0.2500\n",
      "Per-class F1-scores: {'1 (FACING camera) Sit and stand': 0.0, '10 Slow walk (SHAKING hands/body, tiny step, head forward)': 1.0, '2 (FACING camera) both hands SHAKING (sitting position)': 0.0, '3 Stand up from chair - both hands with SHAKING': 0.0, '4 (Sideway) Sit & stand': 0.0, '5 (Sideway) both hands SHAKING (sitting)': 0.0, '6 (Sideway) STAND up with - both hands SHAKING': 0.5, '7 Cool down - sitting/relax': 0.0}\n"
     ]
    },
    {
     "name": "stderr",
     "output_type": "stream",
     "text": [
      "C:\\Users\\rohan\\AppData\\Local\\Temp\\ipykernel_49192\\2909796749.py:141: DeprecationWarning: In future, it will be an error for 'np.bool_' scalars to be interpreted as an index\n",
      "  torch.tensor(masks, dtype=torch.bool),\n"
     ]
    },
    {
     "name": "stdout",
     "output_type": "stream",
     "text": [
      "Epoch 48: Loss=1.0741, Val Acc=0.3000, Val F1=0.2500\n",
      "Per-class F1-scores: {'1 (FACING camera) Sit and stand': 0.0, '10 Slow walk (SHAKING hands/body, tiny step, head forward)': 1.0, '2 (FACING camera) both hands SHAKING (sitting position)': 0.0, '3 Stand up from chair - both hands with SHAKING': 0.0, '4 (Sideway) Sit & stand': 0.0, '5 (Sideway) both hands SHAKING (sitting)': 0.0, '6 (Sideway) STAND up with - both hands SHAKING': 0.5, '7 Cool down - sitting/relax': 0.0}\n"
     ]
    },
    {
     "name": "stderr",
     "output_type": "stream",
     "text": [
      "C:\\Users\\rohan\\AppData\\Local\\Temp\\ipykernel_49192\\2909796749.py:141: DeprecationWarning: In future, it will be an error for 'np.bool_' scalars to be interpreted as an index\n",
      "  torch.tensor(masks, dtype=torch.bool),\n"
     ]
    },
    {
     "name": "stdout",
     "output_type": "stream",
     "text": [
      "Epoch 49: Loss=1.0632, Val Acc=0.3000, Val F1=0.2500\n",
      "Per-class F1-scores: {'1 (FACING camera) Sit and stand': 0.0, '10 Slow walk (SHAKING hands/body, tiny step, head forward)': 1.0, '2 (FACING camera) both hands SHAKING (sitting position)': 0.0, '3 Stand up from chair - both hands with SHAKING': 0.0, '4 (Sideway) Sit & stand': 0.0, '5 (Sideway) both hands SHAKING (sitting)': 0.0, '6 (Sideway) STAND up with - both hands SHAKING': 0.5, '7 Cool down - sitting/relax': 0.0}\n"
     ]
    },
    {
     "name": "stderr",
     "output_type": "stream",
     "text": [
      "C:\\Users\\rohan\\AppData\\Local\\Temp\\ipykernel_49192\\2909796749.py:141: DeprecationWarning: In future, it will be an error for 'np.bool_' scalars to be interpreted as an index\n",
      "  torch.tensor(masks, dtype=torch.bool),\n"
     ]
    },
    {
     "name": "stdout",
     "output_type": "stream",
     "text": [
      "Epoch 50: Loss=1.0062, Val Acc=0.3000, Val F1=0.2500\n"
     ]
    }
   ],
   "source": [
    "import numpy as np\n",
    "import pandas as pd\n",
    "from scipy.stats import skew, kurtosis\n",
    "from scipy.signal import find_peaks\n",
    "import torch\n",
    "import torch.nn as nn\n",
    "from torch.utils.data import Dataset, DataLoader\n",
    "from sklearn.preprocessing import LabelEncoder, StandardScaler\n",
    "from sklearn.metrics import accuracy_score, f1_score, confusion_matrix\n",
    "from collections import Counter\n",
    "import seaborn as sns\n",
    "import matplotlib.pyplot as plt\n",
    "\n",
    "# Preprocessing: Normalize per subject\n",
    "def normalize_per_subject(df):\n",
    "    scaler = StandardScaler()\n",
    "    for subject in df['subject'].unique():\n",
    "        mask = df['subject'] == subject\n",
    "        df.loc[mask, ['x', 'y', 'z']] = scaler.fit_transform(df.loc[mask, ['x', 'y', 'z']])\n",
    "    return df\n",
    "\n",
    "# Data Augmentation: Add jitter\n",
    "def augment_data(window_data):\n",
    "    noise = np.random.normal(0, 0.01, window_data[['x', 'y', 'z']].shape)\n",
    "    window_data[['x', 'y', 'z']] += noise\n",
    "    return window_data\n",
    "\n",
    "# Generate Windows\n",
    "def generate_windows(group, window_size=pd.Timedelta(seconds=1), step_size=pd.Timedelta(seconds=0.5)):\n",
    "    group = group.sort_values('timestamp')\n",
    "    start_time = group['timestamp'].min()\n",
    "    end_time = group['timestamp'].max()\n",
    "    windows = []\n",
    "    labels = []\n",
    "    subjects = []\n",
    "    current_start = start_time\n",
    "    \n",
    "    while current_start + window_size <= end_time:\n",
    "        window_end = current_start + window_size\n",
    "        window_data = group[(group['timestamp'] >= current_start) & (group['timestamp'] < window_end)]\n",
    "        if not window_data.empty:\n",
    "            # Apply augmentation with 50% probability\n",
    "            if np.random.rand() > 0.5:\n",
    "                window_data = augment_data(window_data.copy())\n",
    "            windows.append(window_data)\n",
    "            labels.append(group['activity_type'].iloc[0])\n",
    "            subjects.append(group['subject'].iloc[0])\n",
    "        current_start += step_size\n",
    "    \n",
    "    return windows, labels, subjects\n",
    "\n",
    "# Feature Extraction\n",
    "def extract_features(window_data):\n",
    "    features = {}\n",
    "    \n",
    "    # Time-Domain Features\n",
    "    for axis in ['x', 'y', 'z']:\n",
    "        data = window_data[axis]\n",
    "        features[f'{axis}_mean'] = data.mean()\n",
    "        features[f'{axis}_std'] = data.std()\n",
    "        features[f'{axis}_skew'] = skew(data)\n",
    "        features[f'{axis}_kurt'] = kurtosis(data)\n",
    "        features[f'{axis}_min'] = data.min()\n",
    "        features[f'{axis}_max'] = data.max()\n",
    "        features[f'{axis}_range'] = data.max() - data.min()\n",
    "    \n",
    "    # Magnitude Features\n",
    "    mag = np.sqrt(window_data['x']**2 + window_data['y']**2 + window_data['z']**2)\n",
    "    features['mag_mean'] = mag.mean()\n",
    "    features['mag_std'] = mag.std()\n",
    "    \n",
    "    # Cross-Axis Correlation\n",
    "    features['xy_corr'] = window_data['x'].corr(window_data['y'])\n",
    "    features['xz_corr'] = window_data['x'].corr(window_data['z'])\n",
    "    features['yz_corr'] = window_data['y'].corr(window_data['z'])\n",
    "    \n",
    "    # Frequency-Domain Features\n",
    "    for axis in ['x', 'y', 'z']:\n",
    "        fft_vals = np.abs(np.fft.fft(window_data[axis]))[:len(window_data[axis])//2]\n",
    "        freqs = np.fft.fftfreq(len(window_data[axis]), d=0.135)[:len(window_data[axis])//2]\n",
    "        for low, high in [(0, 1), (1, 2), (2, 3), (3, 3.7)]:\n",
    "            mask = (freqs >= low) & (freqs < high)\n",
    "            features[f'{axis}_power_{low}-{high}'] = np.sum(fft_vals[mask]**2) if mask.any() else 0\n",
    "    \n",
    "    # Step Frequency\n",
    "    peaks, _ = find_peaks(mag, height=mag.mean() + mag.std(), distance=3)\n",
    "    window_duration = (window_data['timestamp'].max() - window_data['timestamp'].min()).total_seconds()\n",
    "    features['step_frequency'] = len(peaks) / window_duration if window_duration > 0 else 0\n",
    "    \n",
    "    # Convert to numerical array\n",
    "    feature_values = [v if not np.isnan(v) else 0 for k, v in features.items()]\n",
    "    return np.array(feature_values)\n",
    "\n",
    "# Prepare Sequences\n",
    "def prepare_sequences(df, max_seq_len=50):\n",
    "    sequences = []\n",
    "    labels = []\n",
    "    subjects = []\n",
    "    max_len = 0\n",
    "    for (subject, activity_type, sequence_id), group in df.groupby(['subject', 'activity_type', 'sequence_id']):\n",
    "        windows, window_labels, window_subjects = generate_windows(group)\n",
    "        if windows:\n",
    "            sequence_features = [extract_features(window) for window in windows]\n",
    "            seq_len = len(sequence_features)\n",
    "            if seq_len > max_seq_len:\n",
    "                sequence_features = sequence_features[:max_seq_len]\n",
    "                seq_len = max_seq_len\n",
    "            max_len = max(max_len, seq_len)\n",
    "            sequences.append(np.array(sequence_features))\n",
    "            labels.append(window_labels[0])\n",
    "            subjects.append(window_subjects[0])\n",
    "    print(f\"Maximum sequence length: {max_len}\")\n",
    "    return sequences, labels, subjects, max_len\n",
    "\n",
    "# Custom Dataset\n",
    "class ActivityDataset(Dataset):\n",
    "    def __init__(self, sequences, labels, subjects, subject_encoder):\n",
    "        self.sequences = sequences\n",
    "        self.labels = labels\n",
    "        self.subjects = [subject_encoder.get(subj, len(subject_encoder)) for subj in subjects]\n",
    "    \n",
    "    def __len__(self):\n",
    "        return len(self.sequences)\n",
    "    \n",
    "    def __getitem__(self, idx):\n",
    "        return self.sequences[idx], self.labels[idx], self.subjects[idx]\n",
    "\n",
    "def collate_fn(batch):\n",
    "    sequences, labels, subjects = zip(*batch)\n",
    "    max_len = max(seq.shape[0] for seq in sequences)\n",
    "    padded_sequences = []\n",
    "    masks = []\n",
    "    for seq in sequences:\n",
    "        pad_width = ((0, max_len - seq.shape[0]), (0, 0))\n",
    "        padded_seq = np.pad(seq, pad_width, mode='constant', constant_values=0)\n",
    "        padded_sequences.append(padded_seq)\n",
    "        mask = np.ones(seq.shape[0], dtype=bool)\n",
    "        mask = np.pad(mask, (0, max_len - seq.shape[0]), mode='constant', constant_values=False)\n",
    "        masks.append(mask)\n",
    "    return (torch.tensor(padded_sequences, dtype=torch.float32),\n",
    "            torch.tensor(masks, dtype=torch.bool),\n",
    "            torch.tensor(labels, dtype=torch.long),\n",
    "            torch.tensor(subjects, dtype=torch.long))\n",
    "\n",
    "# Transformer Model\n",
    "class ActivityTransformer(nn.Module):\n",
    "    def __init__(self, num_features, num_classes, num_subjects, max_seq_len, d_model=64, num_heads=4, num_layers=1, dropout=0.3, embedding_dim=16):\n",
    "        super(ActivityTransformer, self).__init__()\n",
    "        self.d_model = d_model\n",
    "        self.subject_embedding = nn.Embedding(num_subjects + 1, embedding_dim)\n",
    "        self.input_proj = nn.Linear(num_features + embedding_dim, d_model)\n",
    "        self.cls_token = nn.Parameter(torch.zeros(1, 1, d_model))\n",
    "        self.pos_encoder = nn.Parameter(torch.zeros(1, max_seq_len + 1, d_model))\n",
    "        encoder_layer = nn.TransformerEncoderLayer(d_model, num_heads, dim_feedforward=256, dropout=dropout)\n",
    "        self.transformer_encoder = nn.TransformerEncoder(encoder_layer, num_layers)\n",
    "        self.classifier = nn.Linear(d_model, num_classes)\n",
    "    \n",
    "    def forward(self, x, mask, subject_ids):\n",
    "        batch_size, seq_len, num_features = x.shape\n",
    "        subj_emb = self.subject_embedding(subject_ids).unsqueeze(1).expand(-1, seq_len, -1)\n",
    "        x = torch.cat((x, subj_emb), dim=-1)\n",
    "        x = self.input_proj(x)\n",
    "        cls_token = self.cls_token.expand(batch_size, -1, -1)\n",
    "        x = torch.cat((cls_token, x), dim=1)\n",
    "        pos_encoding = self.pos_encoder[:, :seq_len + 1, :]\n",
    "        x += pos_encoding\n",
    "        cls_mask = torch.ones(batch_size, 1, dtype=torch.bool, device=x.device)\n",
    "        full_mask = torch.cat((cls_mask, mask), dim=1)\n",
    "        transformer_mask = ~full_mask\n",
    "        x = x.permute(1, 0, 2)\n",
    "        x = self.transformer_encoder(x, src_key_padding_mask=transformer_mask)\n",
    "        x = x.permute(1, 0, 2)\n",
    "        cls_output = x[:, 0, :]\n",
    "        return self.classifier(cls_output)\n",
    "\n",
    "# Training and Evaluation Functions\n",
    "def train_epoch(model, loader, criterion, optimizer, device):\n",
    "    model.train()\n",
    "    total_loss = 0\n",
    "    for batch in loader:\n",
    "        sequences, masks, labels, subjects = [b.to(device) for b in batch]\n",
    "        optimizer.zero_grad()\n",
    "        logits = model(sequences, masks, subjects)\n",
    "        loss = criterion(logits, labels)\n",
    "        loss.backward()\n",
    "        optimizer.step()\n",
    "        total_loss += loss.item()\n",
    "    return total_loss / len(loader)\n",
    "\n",
    "def evaluate(model, loader, device, le):\n",
    "    model.eval()\n",
    "    preds, true = [], []\n",
    "    with torch.no_grad():\n",
    "        for batch in loader:\n",
    "            sequences, masks, labels, subjects = [b.to(device) for b in batch]\n",
    "            logits = model(sequences, masks, subjects)\n",
    "            preds.extend(torch.argmax(logits, dim=1).cpu().numpy())\n",
    "            true.extend(labels.cpu().numpy())\n",
    "    acc = accuracy_score(true, preds)\n",
    "    f1 = f1_score(true, preds, average='weighted')\n",
    "    # Per-class F1\n",
    "    per_class_f1 = f1_score(true, preds, average=None)\n",
    "    print(\"Per-class F1-scores:\", dict(zip(le.classes_, per_class_f1)))\n",
    "    # Confusion Matrix\n",
    "    cm = confusion_matrix(true, preds)\n",
    "    plt.figure(figsize=(10, 8))\n",
    "    sns.heatmap(cm, annot=True, fmt='d', xticklabels=le.classes_, yticklabels=le.classes_)\n",
    "    plt.xlabel('Predicted')\n",
    "    plt.ylabel('True')\n",
    "    plt.savefig('confusion_matrix.png')\n",
    "    plt.close()\n",
    "    return acc, f1\n",
    "\n",
    "# Early Stopping\n",
    "class EarlyStopping:\n",
    "    def __init__(self, patience=5, delta=0):\n",
    "        self.patience = patience\n",
    "        self.delta = delta\n",
    "        self.best_score = None\n",
    "        self.early_stop = False\n",
    "        self.counter = 0\n",
    "    \n",
    "    def __call__(self, val_f1, model):\n",
    "        score = val_f1\n",
    "        if self.best_score is None:\n",
    "            self.best_score = score\n",
    "        elif score < self.best_score + self.delta:\n",
    "            self.counter += 1\n",
    "            if self.counter >= self.patience:\n",
    "                self.early_stop = True\n",
    "        else:\n",
    "            self.best_score = score\n",
    "            self.counter = 0\n",
    "\n",
    "\n",
    "# Preprocess\n",
    "df = normalize_per_subject(df)\n",
    "sequences, labels, subjects, max_seq_len = prepare_sequences(df)\n",
    "le = LabelEncoder()\n",
    "labels_encoded = le.fit_transform(labels)\n",
    "subject_encoder = {subj: idx for idx, subj in enumerate(sorted(set(subjects)))}\n",
    "\n",
    "# Split for a single fold\n",
    "train_idx = [i for i, s in enumerate(subjects) if s != 'U3']\n",
    "val_idx = [i for i, s in enumerate(subjects) if s == 'U3']\n",
    "train_data = ([sequences[i] for i in train_idx], labels_encoded[train_idx], [subjects[i] for i in train_idx])\n",
    "val_data = ([sequences[i] for i in val_idx], labels_encoded[val_idx], [subjects[i] for i in val_idx])\n",
    "\n",
    "# Datasets and Loaders\n",
    "train_dataset = ActivityDataset(*train_data, subject_encoder)\n",
    "val_dataset = ActivityDataset(*val_data, subject_encoder)\n",
    "train_loader = DataLoader(train_dataset, batch_size=16, shuffle=True, collate_fn=collate_fn)\n",
    "val_loader = DataLoader(val_dataset, batch_size=16, shuffle=False, collate_fn=collate_fn)\n",
    "\n",
    "# Model Setup\n",
    "device = torch.device('cuda' if torch.cuda.is_available() else 'cpu')\n",
    "num_features = sequences[0].shape[1]  # Should be 24: (7 time + 4 freq) * 3 axes + 2 mag + 3 corr + 1 step\n",
    "model = ActivityTransformer(\n",
    "    num_features=num_features,\n",
    "    num_classes=len(le.classes_),\n",
    "    num_subjects=len(subject_encoder),\n",
    "    max_seq_len=max_seq_len,\n",
    "    d_model=64,\n",
    "    num_heads=4,\n",
    "    num_layers=1,\n",
    "    dropout=0.3,\n",
    "    embedding_dim=16\n",
    ").to(device)\n",
    "class_weights = torch.tensor([1.0 / Counter(labels_encoded)[i] for i in range(len(le.classes_))], dtype=torch.float).to(device)\n",
    "criterion = nn.CrossEntropyLoss(weight=class_weights)\n",
    "optimizer = torch.optim.Adam(model.parameters(), lr=0.001)\n",
    "scheduler = torch.optim.lr_scheduler.ReduceLROnPlateau(optimizer, 'min', patience=3)\n",
    "early_stopping = EarlyStopping(patience=5)\n",
    "\n",
    "# Training Loop\n",
    "for epoch in range(50):\n",
    "    train_loss = train_epoch(model, train_loader, criterion, optimizer, device)\n",
    "    val_acc, val_f1 = evaluate(model, val_loader, device, le)\n",
    "    print(f\"Epoch {epoch+1}: Loss={train_loss:.4f}, Val Acc={val_acc:.4f}, Val F1={val_f1:.4f}\")\n",
    "    scheduler.step(train_loss)\n",
    "    # early_stopping(val_f1, model)\n",
    "    if early_stopping.early_stop:\n",
    "        print(\"Early stopping triggered\")\n",
    "        break"
   ]
  },
  {
   "cell_type": "code",
   "execution_count": null,
   "id": "12afe9db",
   "metadata": {},
   "outputs": [],
   "source": []
  },
  {
   "cell_type": "code",
   "execution_count": null,
   "id": "d01f6703",
   "metadata": {},
   "outputs": [],
   "source": []
  }
 ],
 "metadata": {
  "kernelspec": {
   "display_name": "Python 3",
   "language": "python",
   "name": "python3"
  },
  "language_info": {
   "codemirror_mode": {
    "name": "ipython",
    "version": 3
   },
   "file_extension": ".py",
   "mimetype": "text/x-python",
   "name": "python",
   "nbconvert_exporter": "python",
   "pygments_lexer": "ipython3",
   "version": "3.9.12"
  }
 },
 "nbformat": 4,
 "nbformat_minor": 5
}
